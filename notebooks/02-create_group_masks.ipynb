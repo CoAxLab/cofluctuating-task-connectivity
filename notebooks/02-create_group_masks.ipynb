{
 "cells": [
  {
   "cell_type": "markdown",
   "metadata": {},
   "source": [
    "Notebook to generate the group mask that is to be passed in the subsequent analyses."
   ]
  },
  {
   "cell_type": "code",
   "execution_count": 3,
   "metadata": {},
   "outputs": [],
   "source": [
    "import os\n",
    "import pandas as pd\n",
    "from tqdm import tqdm\n",
    "import numpy as np\n",
    "from nilearn import image"
   ]
  },
  {
   "cell_type": "code",
   "execution_count": 4,
   "metadata": {},
   "outputs": [
    {
     "name": "stdout",
     "output_type": "stream",
     "text": [
      "../data/atlases/shen_2mm_268_parcellation.nii.gz\n",
      "the number of rois in this Shen parcellation is = 268\n"
     ]
    }
   ],
   "source": [
    "atlas_file = \"../data/atlases/shen_2mm_268_parcellation.nii.gz\"\n",
    "print(atlas_file)\n",
    "\n",
    "atlas_img = image.load_img(atlas_file)\n",
    "n_rois = len(np.unique(atlas_img.get_fdata()))-1\n",
    "print(\"the number of rois in this %s parcellation is = %d\" % (\"Shen\", n_rois))"
   ]
  },
  {
   "cell_type": "code",
   "execution_count": 5,
   "metadata": {},
   "outputs": [],
   "source": [
    "edge_shen_mask_data = np.zeros((n_rois, n_rois), dtype=int)\n",
    "edge_shen_mask_data[np.triu_indices_from(edge_shen_mask_data, k=1)]=1\n",
    "edge_shen_mask_data = edge_shen_mask_data[:,:, None]\n",
    "edge_shen_mask_img = image.new_img_like(\"../data/masks/grey_mask_motion_035.nii.gz\", \n",
    "                                        edge_shen_mask_data, affine=np.eye(4))\n",
    "edge_shen_mask_img.to_filename(\"../data/masks/edge_shen_mask.nii.gz\")"
   ]
  }
 ],
 "metadata": {
  "kernelspec": {
   "display_name": "Python 3 (ipykernel)",
   "language": "python",
   "name": "python3"
  },
  "language_info": {
   "codemirror_mode": {
    "name": "ipython",
    "version": 3
   },
   "file_extension": ".py",
   "mimetype": "text/x-python",
   "name": "python",
   "nbconvert_exporter": "python",
   "pygments_lexer": "ipython3",
   "version": "3.8.11"
  }
 },
 "nbformat": 4,
 "nbformat_minor": 4
}
