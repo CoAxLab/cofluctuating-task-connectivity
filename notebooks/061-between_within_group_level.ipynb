{
 "cells": [
  {
   "cell_type": "markdown",
   "id": "0fb8dd60",
   "metadata": {},
   "source": [
    "In this notebook, we examined the differences in connectivity changes (Incongruent vs Congruent) of both tasks, concentrating on the characteristics at the intrinsic network level."
   ]
  },
  {
   "cell_type": "code",
   "execution_count": 1,
   "id": "8d89f7e6",
   "metadata": {},
   "outputs": [
    {
     "name": "stderr",
     "output_type": "stream",
     "text": [
      "/home/javi/anaconda3/lib/python3.8/site-packages/nilearn/datasets/__init__.py:93: FutureWarning: Fetchers from the nilearn.datasets module will be updated in version 0.9 to return python strings instead of bytes and Pandas dataframes instead of Numpy arrays.\n",
      "  warn(\"Fetchers from the nilearn.datasets module will be \"\n",
      "/home/javi/anaconda3/lib/python3.8/site-packages/nilearn/glm/__init__.py:55: FutureWarning: The nilearn.glm module is experimental. It may change in any future release of Nilearn.\n",
      "  warn('The nilearn.glm module is experimental. '\n"
     ]
    },
    {
     "name": "stdout",
     "output_type": "stream",
     "text": [
      "242\n"
     ]
    }
   ],
   "source": [
    "import pandas as pd\n",
    "from scipy import stats\n",
    "import numpy as np\n",
    "import seaborn as sns\n",
    "import matplotlib.pyplot as plt\n",
    "from glob import glob\n",
    "from pathlib import Path\n",
    "from os.path import join as opj\n",
    "from scipy.spatial.distance import squareform\n",
    "from nilearn.image import load_img\n",
    "from statsmodels.stats.multitest import multipletests\n",
    "from nilearn.glm.second_level import SecondLevelModel\n",
    "\n",
    "final_subjects = np.loadtxt(\"../data/subjects_intersect_motion_035.txt\")\n",
    "n_subjects = len(final_subjects)\n",
    "print(n_subjects)\n",
    "\n",
    "n_scans = 280 \n",
    "\n",
    "rsn_networks = pd.read_csv(\"../data/atlases/shen_268_parcellation_networklabels.csv\").Network\n",
    "rsn_networks\n",
    "\n",
    "rsn_names = [\"MF\", \"FP\", \"DM\", \"SC\", \"MT\", \"V1\", \"V2\", \"VA\"]\n",
    "\n",
    "experiment_dir = Path(glob(\"../results/experiments/*/shen/pipeline_main.yaml\")[0]).parent.as_posix()\n",
    "stroop_edge_ef = glob(opj(experiment_dir, \"task-stroop/edge/*/Incongruent-Congruent/effect_size.nii.gz\"))\n",
    "mist_edge_ef = glob(opj(experiment_dir, \"task-msit/edge/*/Incongruent-Congruent/effect_size.nii.gz\"))\n",
    "\n",
    "dm = pd.DataFrame({'constant': [1]*len(stroop_edge_ef)})\n",
    "\n",
    "second_level = SecondLevelModel()\n",
    "\n",
    "second_level.fit(stroop_edge_ef, design_matrix=dm)\n",
    "res_group_stroop = second_level.compute_contrast('constant', output_type='all')\n",
    "\n",
    "z_edge_stroop = res_group_stroop['z_score']\n",
    "z_edge_stroop = squareform(np.squeeze(z_edge_stroop.get_fdata()), checks=False)\n",
    "edge_sig_stroop  = multipletests(stats.norm.sf(abs(z_edge_stroop))*2, method=\"bonferroni\")[0]\n",
    "\n",
    "second_level.fit(mist_edge_ef, design_matrix=dm)\n",
    "res_group_msit = second_level.compute_contrast('constant', output_type='all')\n",
    "\n",
    "z_edge_msit = res_group_msit['z_score']\n",
    "z_edge_msit = squareform(np.squeeze(z_edge_msit.get_fdata()), checks=False)\n",
    "edge_sig_msit  = multipletests(stats.norm.sf(abs(z_edge_msit))*2, method=\"bonferroni\")[0]"
   ]
  },
  {
   "cell_type": "code",
   "execution_count": 2,
   "id": "05717bf9",
   "metadata": {},
   "outputs": [],
   "source": [
    "def extract_within_network(net):\n",
    "    rsn_within = []\n",
    "    for ii in range(1, 9):\n",
    "        rsn_links = net[rsn_networks==ii,:][:,rsn_networks==ii]\n",
    "        rsn_within.append(squareform(rsn_links, checks=False))\n",
    "    return rsn_within\n",
    "\n",
    "def prop_links(net):\n",
    "    prop_mat = np.zeros((8,8))\n",
    "    sig_elems = np.sum(net)\n",
    "    net = squareform(net)\n",
    "    for ii in range(1, 9):\n",
    "        for jj in range(ii, 9):\n",
    "            mat = net[rsn_networks==ii,:][:,rsn_networks==jj]\n",
    "            \n",
    "            if ii==jj:\n",
    "                prop_mat[ii-1,jj-1] = np.sum(squareform(mat, checks=False))\n",
    "                size = len(squareform(mat, checks=False))\n",
    "                prop_mat[ii-1,jj-1] /=size\n",
    "            else:\n",
    "                prop_mat[ii-1,jj-1] = np.sum(mat)\n",
    "                prop_mat[ii-1,jj-1] /= mat.size\n",
    "                \n",
    "            prop_mat[jj-1, ii-1] = prop_mat[ii-1, jj-1]\n",
    "    return prop_mat"
   ]
  },
  {
   "cell_type": "code",
   "execution_count": 3,
   "id": "2622a600",
   "metadata": {},
   "outputs": [
    {
     "data": {
      "text/plain": [
       "array([[False, False, False, False, False, False, False, False],\n",
       "       [ True, False, False, False, False, False, False, False],\n",
       "       [ True,  True, False, False, False, False, False, False],\n",
       "       [ True,  True,  True, False, False, False, False, False],\n",
       "       [ True,  True,  True,  True, False, False, False, False],\n",
       "       [ True,  True,  True,  True,  True, False, False, False],\n",
       "       [ True,  True,  True,  True,  True,  True, False, False],\n",
       "       [ True,  True,  True,  True,  True,  True,  True, False]])"
      ]
     },
     "execution_count": 3,
     "metadata": {},
     "output_type": "execute_result"
    }
   ],
   "source": [
    "# Generate a mask for the upper triangle\n",
    "mask_up = np.triu(np.ones((8,8), dtype=bool), k=1)\n",
    "mask_up\n",
    "# Generate a mask for the upper triangle\n",
    "mask_down = np.tril(np.ones((8,8), dtype=bool), k=-1)\n",
    "mask_down"
   ]
  },
  {
   "cell_type": "code",
   "execution_count": 21,
   "id": "fc6e1fca",
   "metadata": {},
   "outputs": [
    {
     "data": {
      "image/png": "[encoded data removed]",
      "text/plain": [
       "<Figure size 504x504 with 2 Axes>"
      ]
     },
     "metadata": {
      "needs_background": "light"
     },
     "output_type": "display_data"
    },
    {
     "data": {
      "image/png": "[encoded data removed]",
      "text/plain": [
       "<Figure size 504x504 with 2 Axes>"
      ]
     },
     "metadata": {
      "needs_background": "light"
     },
     "output_type": "display_data"
    }
   ],
   "source": [
    "# Proportion of significant links (STROOP)\n",
    "\n",
    "fig, ax = plt.subplots(figsize=(7,7))\n",
    "sns.heatmap(prop_links((z_edge_stroop>0)*edge_sig_stroop), mask=mask_up, \n",
    "            cmap=plt.cm.Reds, square=True,  \n",
    "            xticklabels=rsn_names, yticklabels=rsn_names, cbar_kws={\"shrink\": .8}, vmin=0, vmax=0.2)\n",
    "plt.tick_params(labelsize=15)\n",
    "cbar = ax.collections[0].colorbar\n",
    "cbar.set_ticks([0., 0.05, 0.1, 0.15, 0.2])\n",
    "cbar.ax.tick_params(labelsize=13)\n",
    "plt.savefig(\"../plots/rsn_proportion_pos_stroop.svg\", dpi=300)\n",
    "plt.savefig(\"../plots/rsn_proportion_pos_stroop.png\", dpi=300)\n",
    "plt.savefig(\"../plots/rsn_proportion_pos_stroop.pdf\", dpi=300)\n",
    "\n",
    "fig, ax = plt.subplots(figsize=(7,7))\n",
    "sns.heatmap(prop_links((z_edge_stroop<0)*edge_sig_stroop), mask=mask_down, cmap=plt.cm.Blues, square=True,  \n",
    "            xticklabels=rsn_names, yticklabels=rsn_names, cbar_kws={\"shrink\": .8}, vmin=0, vmax=0.2)\n",
    "ax.yaxis.set_tick_params(size=0)\n",
    "ax.yaxis.set_ticklabels('')\n",
    "ax.xaxis.set_label_position(\"top\")\n",
    "ax.xaxis.tick_top()\n",
    "plt.tick_params(labelsize=15)\n",
    "cbar = ax.collections[0].colorbar\n",
    "cbar.set_ticks([0., 0.05, 0.1, 0.15, 0.2])\n",
    "cbar.ax.tick_params(labelsize=13)\n",
    "plt.savefig(\"../plots/rsn_proportion_neg_stroop.svg\", dpi=300)\n",
    "plt.savefig(\"../plots/rsn_proportion_neg_stroop.png\", dpi=300)\n",
    "plt.savefig(\"../plots/rsn_proportion_neg_stroop.pdf\", dpi=300)"
   ]
  },
  {
   "cell_type": "code",
   "execution_count": 22,
   "id": "53840f73",
   "metadata": {},
   "outputs": [
    {
     "data": {
      "image/png": "[encoded data removed]",
      "text/plain": [
       "<Figure size 504x504 with 2 Axes>"
      ]
     },
     "metadata": {
      "needs_background": "light"
     },
     "output_type": "display_data"
    },
    {
     "data": {
      "image/png": "[encoded data removed]",
      "text/plain": [
       "<Figure size 504x504 with 2 Axes>"
      ]
     },
     "metadata": {
      "needs_background": "light"
     },
     "output_type": "display_data"
    }
   ],
   "source": [
    "# Proportion of significant links (MSIT)\n",
    "\n",
    "fig, ax = plt.subplots(figsize=(7,7))\n",
    "sns.heatmap(prop_links((z_edge_msit>0)*edge_sig_msit), mask=mask_up, \n",
    "            cmap=plt.cm.Reds, square=True,  \n",
    "            xticklabels=rsn_names, yticklabels=rsn_names, cbar_kws={\"shrink\": .8}, vmin=0, vmax=0.2)\n",
    "plt.tick_params(labelsize=15)\n",
    "cbar = ax.collections[0].colorbar\n",
    "cbar.set_ticks([0., 0.05, 0.1, 0.15, 0.2])\n",
    "cbar.ax.tick_params(labelsize=13)\n",
    "plt.savefig(\"../plots/rsn_proportion_pos_msit.svg\", dpi=300)\n",
    "plt.savefig(\"../plots/rsn_proportion_pos_msit.png\", dpi=300)\n",
    "plt.savefig(\"../plots/rsn_proportion_pos_msit.pdf\", dpi=300)\n",
    "\n",
    "\n",
    "fig, ax = plt.subplots(figsize=(7,7))\n",
    "sns.heatmap(prop_links((z_edge_msit<0)*edge_sig_msit), mask=mask_down, cmap=plt.cm.Blues, square=True,  \n",
    "            xticklabels=rsn_names, yticklabels=rsn_names, cbar_kws={\"shrink\": .8}, vmin=0, vmax=0.2)\n",
    "ax.yaxis.set_tick_params(size=0)\n",
    "ax.yaxis.set_ticklabels('')\n",
    "ax.xaxis.set_label_position(\"top\")\n",
    "ax.xaxis.tick_top()\n",
    "plt.tick_params(labelsize=15)\n",
    "cbar = ax.collections[0].colorbar\n",
    "cbar.set_ticks([0., 0.05, 0.1, 0.15, 0.2])\n",
    "cbar.ax.tick_params(labelsize=13)\n",
    "plt.savefig(\"../plots/rsn_proportion_neg_msit.svg\", dpi=300)\n",
    "plt.savefig(\"../plots/rsn_proportion_neg_msit.png\", dpi=300)\n",
    "plt.savefig(\"../plots/rsn_proportion_neg_msit.pdf\", dpi=300)"
   ]
  },
  {
   "cell_type": "markdown",
   "id": "93bb0b06",
   "metadata": {},
   "source": [
    "Show that both tasks have a different concentration of negative and positive links"
   ]
  },
  {
   "cell_type": "code",
   "execution_count": 23,
   "id": "8300363c",
   "metadata": {},
   "outputs": [],
   "source": [
    "thr_stroop = np.percentile(abs(z_edge_stroop), 99.)\n",
    "thr_msit = np.percentile(abs(z_edge_msit), 99.)"
   ]
  },
  {
   "cell_type": "code",
   "execution_count": 24,
   "id": "82da537f",
   "metadata": {},
   "outputs": [
    {
     "name": "stdout",
     "output_type": "stream",
     "text": [
      "[[305, 53], [209, 149]]\n"
     ]
    },
    {
     "data": {
      "text/plain": [
       "(4.1026451205199965, 1.1706710554464264e-15)"
      ]
     },
     "execution_count": 24,
     "metadata": {},
     "output_type": "execute_result"
    }
   ],
   "source": [
    "prop_table = [[sum(z_edge_stroop[abs(z_edge_stroop)>thr_stroop]>0), \n",
    "                     sum(z_edge_stroop[abs(z_edge_stroop)>thr_stroop]<0)],\n",
    "                    [sum(z_edge_msit[abs(z_edge_msit)>thr_msit]>0), \n",
    "                     sum(z_edge_msit[abs(z_edge_msit)>thr_msit]<0)]]\n",
    "print(prop_table)\n",
    "stats.fisher_exact(prop_table)"
   ]
  },
  {
   "cell_type": "code",
   "execution_count": 25,
   "id": "1fbcd213",
   "metadata": {},
   "outputs": [
    {
     "name": "stdout",
     "output_type": "stream",
     "text": [
      "[[1024, 260], [581, 461]]\n"
     ]
    },
    {
     "data": {
      "text/plain": [
       "(3.125009929829207, 1.8672669608714598e-35)"
      ]
     },
     "execution_count": 25,
     "metadata": {},
     "output_type": "execute_result"
    }
   ],
   "source": [
    "prop_table = [[sum(z_edge_stroop[edge_sig_stroop]>0), \n",
    "                     sum(z_edge_stroop[edge_sig_stroop]<0)],\n",
    "                    [sum(z_edge_msit[edge_sig_msit]>0), \n",
    "                     sum(z_edge_msit[edge_sig_msit]<0)]]\n",
    "print(prop_table)\n",
    "stats.fisher_exact(prop_table)\n"
   ]
  },
  {
   "cell_type": "code",
   "execution_count": 26,
   "id": "012ff2a2",
   "metadata": {},
   "outputs": [
    {
     "name": "stdout",
     "output_type": "stream",
     "text": [
      "1284\n",
      "1042\n"
     ]
    }
   ],
   "source": [
    "print(sum(edge_sig_stroop))\n",
    "print(sum(edge_sig_msit))"
   ]
  }
 ],
 "metadata": {
  "kernelspec": {
   "display_name": "Python 3 (ipykernel)",
   "language": "python",
   "name": "python3"
  },
  "language_info": {
   "codemirror_mode": {
    "name": "ipython",
    "version": 3
   },
   "file_extension": ".py",
   "mimetype": "text/x-python",
   "name": "python",
   "nbconvert_exporter": "python",
   "pygments_lexer": "ipython3",
   "version": "3.8.13"
  }
 },
 "nbformat": 4,
 "nbformat_minor": 5
}
