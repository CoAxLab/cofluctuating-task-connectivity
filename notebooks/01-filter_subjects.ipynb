{
 "cells": [
  {
   "cell_type": "markdown",
   "metadata": {},
   "source": [
    "Notebook to create the final list of subjects. Criteria:\n",
    "- Have reactivity information.\n",
    "- both stroop, msit and rest have full atlas coverage.\n",
    "- be low motion"
   ]
  },
  {
   "cell_type": "code",
   "execution_count": 12,
   "metadata": {},
   "outputs": [],
   "source": [
    "import numpy as np\n",
    "import pandas as pd\n",
    "import matplotlib.pyplot as plt\n",
    "import regex as re\n",
    "import os \n",
    "from tqdm import tqdm\n",
    "from nilearn import image, input_data\n",
    "from joblib import Parallel, delayed\n",
    "from os.path import join as opj"
   ]
  },
  {
   "cell_type": "code",
   "execution_count": 2,
   "metadata": {},
   "outputs": [],
   "source": [
    "# subjects with reactivity\n",
    "subjects_reactivity = pd.read_csv(\"../data/demo/pip_reactivity_2020.csv\").id.to_list()\n",
    "reactivity_df = pd.DataFrame({'SUB_ID': subjects_reactivity})"
   ]
  },
  {
   "cell_type": "code",
   "execution_count": 4,
   "metadata": {},
   "outputs": [],
   "source": [
    "input_data.NiftiLabelsMasker?"
   ]
  },
  {
   "cell_type": "code",
   "execution_count": 7,
   "metadata": {},
   "outputs": [],
   "source": [
    "atlas_file = \"../data/atlases/shen_2mm_268_parcellation.nii.gz\"\n",
    "\n",
    "def check_acquisition_task(img_file, brain_mask):\n",
    "    \"\"\"\n",
    "    \n",
    "    function to check that we have a full acquisition (280 scans) and \n",
    "    that atlas fit subject (all ROI have signal)\n",
    "    \n",
    "    \"\"\"\n",
    "    \n",
    "    masker = input_data.NiftiLabelsMasker(atlas_file,  mask_img=brain_mask)\n",
    "    roi_data = masker.fit_transform(img_file)\n",
    "    n_obs = roi_data.shape[0]\n",
    "    \n",
    "    full_acq = False\n",
    "    if n_obs == 280:\n",
    "        full_acq = True\n",
    "    \n",
    "    roi_data_std = np.std(roi_data, axis=0)\n",
    "    all_rois = ~np.any(roi_data_std == 0)\n",
    "    is_ok = (full_acq==True) & (all_rois==True)\n",
    "    \n",
    "    return is_ok\n",
    "\n",
    "def check_acquisition_rest(img_file, brain_mask):\n",
    "    \"\"\"\n",
    "    \n",
    "    function to check that we have a full acquisition (150 scans) and \n",
    "    and that atlas fit subject (all ROI have signal)\n",
    "    \n",
    "    \"\"\"\n",
    "    \n",
    "    masker = input_data.NiftiLabelsMasker(atlas_file, mask_img=brain_mask)\n",
    "    roi_data = masker.fit_transform(img_file)\n",
    "    n_obs = roi_data.shape[0]\n",
    "    \n",
    "    full_acq = False\n",
    "    if n_obs == 150:\n",
    "        full_acq = True\n",
    "    \n",
    "    roi_data_std = np.std(roi_data, axis=0)\n",
    "    all_rois = ~np.any(roi_data_std == 0)\n",
    "    \n",
    "    is_ok = (full_acq==True) & (all_rois==True)\n",
    "    \n",
    "    return is_ok"
   ]
  },
  {
   "cell_type": "code",
   "execution_count": 20,
   "metadata": {},
   "outputs": [
    {
     "name": "stderr",
     "output_type": "stream",
     "text": [
      "  0%|                                                                                                                                                                              | 0/333 [02:03<?, ?it/s]\n",
      "  0%|                                                                                                                                                                              | 0/333 [01:26<?, ?it/s]\n",
      "100%|████████████████████████████████████████████████████████████████████████████████████████████████████████████████████████████████████████████████████████████████████| 333/333 [00:05<00:00, 65.47it/s]\n",
      "100%|████████████████████████████████████████████████████████████████████████████████████████████████████████████████████████████████████████████████████████████████████| 333/333 [03:56<00:00,  1.41it/s]\n"
     ]
    }
   ],
   "source": [
    "task_id = \"stroop\"\n",
    "\n",
    "pattern = f\"sub-(.*)_ses-01_task-{task_id}_space-MNI152NLin2009cAsym_desc-preproc_bold.nii.gz\"\n",
    "pattern_confounders = opj(f\"../data/confounders/task-{task_id}\", \n",
    "                          f\"sub-%s_ses-01_task-{task_id}_desc-confounds_regressors.tsv\"\n",
    "                         )\n",
    "list_subjects_ids = []\n",
    "list_subjects_fwd = []\n",
    "\n",
    "# grab subjects for this task\n",
    "for filename in tqdm(os.listdir(\"../data/preproc_bold/task-%s\" % task_id)):\n",
    "    subj = re.findall(pattern=pattern, string=filename)[0]\n",
    "\n",
    "    list_subjects_ids.append(int(subj))\n",
    "    \n",
    "    fwd = pd.read_csv(pattern_confounders % subj, sep=\"\\t\").framewise_displacement.dropna().mean()\n",
    "    list_subjects_fwd.append(fwd)\n",
    "    \n",
    "stroop_df = pd.DataFrame({'SUB_ID': list_subjects_ids, 'FWD': list_subjects_fwd})\n",
    "stroop_df.head()\n",
    "\n",
    "parallel = Parallel(n_jobs=-1)\n",
    "\n",
    "bold_pattern = opj(f\"../data/preproc_bold/task-{task_id}\", \n",
    "                   f\"sub-%d_ses-01_task-{task_id}_space-MNI152NLin2009cAsym_desc-preproc_bold.nii.gz\"\n",
    "                  )\n",
    "brainmask_pattern = opj(f\"../data/brainmasks/task-{task_id}\", \n",
    "                        f\"sub-%d_ses-01_task-{task_id}_space-MNI152NLin2009cAsym_desc-brain_mask.nii.gz\"\n",
    "                       )\n",
    "is_ok = parallel(delayed(check_acquisition_task)( bold_pattern % subj,  brainmask_pattern % subj) \\\n",
    "                 for subj in tqdm(list_subjects_ids))\n",
    "is_ok = np.array(is_ok)\n",
    "\n",
    "stroop_df = stroop_df.loc[is_ok,:]"
   ]
  },
  {
   "cell_type": "code",
   "execution_count": 22,
   "metadata": {},
   "outputs": [
    {
     "data": {
      "text/plain": [
       "(308, 2)"
      ]
     },
     "execution_count": 22,
     "metadata": {},
     "output_type": "execute_result"
    }
   ],
   "source": [
    "stroop_df.shape"
   ]
  },
  {
   "cell_type": "code",
   "execution_count": 23,
   "metadata": {},
   "outputs": [
    {
     "name": "stderr",
     "output_type": "stream",
     "text": [
      "100%|████████████████████████████████████████████████████████████████████████████████████████████████████████████████████████████████████████████████████████████████████| 335/335 [00:05<00:00, 56.09it/s]\n",
      "100%|████████████████████████████████████████████████████████████████████████████████████████████████████████████████████████████████████████████████████████████████████| 335/335 [03:58<00:00,  1.40it/s]\n"
     ]
    }
   ],
   "source": [
    "task_id = \"msit\"\n",
    "\n",
    "pattern = f\"sub-(.*)_ses-01_task-{task_id}_space-MNI152NLin2009cAsym_desc-preproc_bold.nii.gz\"\n",
    "pattern_confounders = opj(f\"../data/confounders/task-{task_id}\", \n",
    "                          f\"sub-%s_ses-01_task-{task_id}_desc-confounds_regressors.tsv\"\n",
    "                         )\n",
    "list_subjects_ids = []\n",
    "list_subjects_fwd = []\n",
    "\n",
    "# grab subjects for this task\n",
    "for filename in tqdm(os.listdir(\"../data/preproc_bold/task-%s\" % task_id)):\n",
    "    subj = re.findall(pattern=pattern, string=filename)[0]\n",
    "\n",
    "    list_subjects_ids.append(int(subj))\n",
    "    \n",
    "    fwd = pd.read_csv(pattern_confounders % subj, sep=\"\\t\").framewise_displacement.dropna().mean()\n",
    "    list_subjects_fwd.append(fwd)\n",
    "    \n",
    "msit_df = pd.DataFrame({'SUB_ID': list_subjects_ids, 'FWD': list_subjects_fwd})\n",
    "msit_df.head()\n",
    "\n",
    "parallel = Parallel(n_jobs=-1)\n",
    "\n",
    "bold_pattern = opj(f\"../data/preproc_bold/task-{task_id}\", \n",
    "                   f\"sub-%d_ses-01_task-{task_id}_space-MNI152NLin2009cAsym_desc-preproc_bold.nii.gz\"\n",
    "                  )\n",
    "brainmask_pattern = opj(f\"../data/brainmasks/task-{task_id}\", \n",
    "                        f\"sub-%d_ses-01_task-{task_id}_space-MNI152NLin2009cAsym_desc-brain_mask.nii.gz\"\n",
    "                       )\n",
    "is_ok = parallel(delayed(check_acquisition_task)( bold_pattern % subj,  brainmask_pattern % subj) \\\n",
    "                 for subj in tqdm(list_subjects_ids))\n",
    "is_ok = np.array(is_ok)\n",
    "\n",
    "msit_df = msit_df.loc[is_ok,:]"
   ]
  },
  {
   "cell_type": "code",
   "execution_count": 24,
   "metadata": {},
   "outputs": [
    {
     "data": {
      "text/plain": [
       "(302, 2)"
      ]
     },
     "execution_count": 24,
     "metadata": {},
     "output_type": "execute_result"
    }
   ],
   "source": [
    "msit_df.shape"
   ]
  },
  {
   "cell_type": "code",
   "execution_count": 25,
   "metadata": {},
   "outputs": [
    {
     "name": "stderr",
     "output_type": "stream",
     "text": [
      "100%|███████████████████████████████████████████████████████████████████████████████████████████████████████████████████████████████████████████████████████████████████| 334/334 [00:03<00:00, 106.90it/s]\n",
      "100%|████████████████████████████████████████████████████████████████████████████████████████████████████████████████████████████████████████████████████████████████████| 334/334 [02:08<00:00,  2.60it/s]\n"
     ]
    }
   ],
   "source": [
    "task_id = \"rest\"\n",
    "\n",
    "pattern = f\"sub-(.*)_ses-01_task-{task_id}_space-MNI152NLin2009cAsym_desc-preproc_bold.nii.gz\"\n",
    "pattern_confounders = opj(f\"../data/confounders/task-{task_id}\", \n",
    "                          f\"sub-%s_ses-01_task-{task_id}_desc-confounds_regressors.tsv\"\n",
    "                         )\n",
    "list_subjects_ids = []\n",
    "list_subjects_fwd = []\n",
    "\n",
    "\n",
    "for filename in tqdm(os.listdir(\"../data/preproc_bold/task-%s\" % task_id)):\n",
    "    subj = re.findall(pattern=pattern, string=filename)[0]\n",
    "\n",
    "    list_subjects_ids.append(int(subj))\n",
    "    \n",
    "    fwd = pd.read_csv(pattern_confounders % subj, sep=\"\\t\").framewise_displacement.dropna().mean()\n",
    "    list_subjects_fwd.append(fwd)\n",
    "    \n",
    "resting_df = pd.DataFrame({'SUB_ID': list_subjects_ids, 'FWD': list_subjects_fwd})\n",
    "resting_df.head()\n",
    "\n",
    "parallel = Parallel(n_jobs=-1)\n",
    "\n",
    "bold_pattern = opj(f\"../data/preproc_bold/task-{task_id}\", \n",
    "                   f\"sub-%d_ses-01_task-{task_id}_space-MNI152NLin2009cAsym_desc-preproc_bold.nii.gz\"\n",
    "                  )\n",
    "brainmask_pattern = opj(f\"../data/brainmasks/task-{task_id}\", \n",
    "                        f\"sub-%d_ses-01_task-{task_id}_space-MNI152NLin2009cAsym_desc-brain_mask.nii.gz\"\n",
    "                       )\n",
    "is_ok = parallel(delayed(check_acquisition_rest)( bold_pattern % subj,  brainmask_pattern % subj) \\\n",
    "                 for subj in tqdm(list_subjects_ids))\n",
    "is_ok = np.array(is_ok)\n",
    "\n",
    "resting_df = resting_df.loc[is_ok,:]"
   ]
  },
  {
   "cell_type": "code",
   "execution_count": 26,
   "metadata": {},
   "outputs": [
    {
     "data": {
      "text/plain": [
       "(290, 2)"
      ]
     },
     "execution_count": 26,
     "metadata": {},
     "output_type": "execute_result"
    }
   ],
   "source": [
    "resting_df.shape"
   ]
  },
  {
   "cell_type": "markdown",
   "metadata": {},
   "source": [
    "Find intersection among subjects that have a low in-scanner motion (0.35 mm), measured using Power's method. We used this threshold as a compromise between number of subjects screened and motion"
   ]
  },
  {
   "cell_type": "code",
   "execution_count": 28,
   "metadata": {},
   "outputs": [
    {
     "name": "stdout",
     "output_type": "stream",
     "text": [
      "230\n"
     ]
    },
    {
     "name": "stderr",
     "output_type": "stream",
     "text": [
      "/home/javi/anaconda3/lib/python3.8/site-packages/scipy/ndimage/measurements.py:684: RuntimeWarning: invalid value encountered in true_divide\n",
      "  return sum / numpy.asanyarray(count).astype(numpy.float64)\n",
      "/home/javi/anaconda3/lib/python3.8/site-packages/scipy/ndimage/measurements.py:684: RuntimeWarning: invalid value encountered in true_divide\n",
      "  return sum / numpy.asanyarray(count).astype(numpy.float64)\n",
      "/home/javi/anaconda3/lib/python3.8/site-packages/scipy/ndimage/measurements.py:684: RuntimeWarning: invalid value encountered in true_divide\n",
      "  return sum / numpy.asanyarray(count).astype(numpy.float64)\n",
      "/home/javi/anaconda3/lib/python3.8/site-packages/scipy/ndimage/measurements.py:684: RuntimeWarning: invalid value encountered in true_divide\n",
      "  return sum / numpy.asanyarray(count).astype(numpy.float64)\n",
      "/home/javi/anaconda3/lib/python3.8/site-packages/scipy/ndimage/measurements.py:684: RuntimeWarning: invalid value encountered in true_divide\n",
      "  return sum / numpy.asanyarray(count).astype(numpy.float64)\n",
      "/home/javi/anaconda3/lib/python3.8/site-packages/scipy/ndimage/measurements.py:684: RuntimeWarning: invalid value encountered in true_divide\n",
      "  return sum / numpy.asanyarray(count).astype(numpy.float64)\n",
      "/home/javi/anaconda3/lib/python3.8/site-packages/scipy/ndimage/measurements.py:684: RuntimeWarning: invalid value encountered in true_divide\n",
      "  return sum / numpy.asanyarray(count).astype(numpy.float64)\n",
      "/home/javi/anaconda3/lib/python3.8/site-packages/scipy/ndimage/measurements.py:684: RuntimeWarning: invalid value encountered in true_divide\n",
      "  return sum / numpy.asanyarray(count).astype(numpy.float64)\n",
      "/home/javi/anaconda3/lib/python3.8/site-packages/scipy/ndimage/measurements.py:684: RuntimeWarning: invalid value encountered in true_divide\n",
      "  return sum / numpy.asanyarray(count).astype(numpy.float64)\n",
      "/home/javi/anaconda3/lib/python3.8/site-packages/scipy/ndimage/measurements.py:684: RuntimeWarning: invalid value encountered in true_divide\n",
      "  return sum / numpy.asanyarray(count).astype(numpy.float64)\n",
      "/home/javi/anaconda3/lib/python3.8/site-packages/scipy/ndimage/measurements.py:684: RuntimeWarning: invalid value encountered in true_divide\n",
      "  return sum / numpy.asanyarray(count).astype(numpy.float64)\n",
      "/home/javi/anaconda3/lib/python3.8/site-packages/scipy/ndimage/measurements.py:684: RuntimeWarning: invalid value encountered in true_divide\n",
      "  return sum / numpy.asanyarray(count).astype(numpy.float64)\n",
      "/home/javi/anaconda3/lib/python3.8/site-packages/scipy/ndimage/measurements.py:684: RuntimeWarning: invalid value encountered in true_divide\n",
      "  return sum / numpy.asanyarray(count).astype(numpy.float64)\n",
      "/home/javi/anaconda3/lib/python3.8/site-packages/scipy/ndimage/measurements.py:684: RuntimeWarning: invalid value encountered in true_divide\n",
      "  return sum / numpy.asanyarray(count).astype(numpy.float64)\n",
      "/home/javi/anaconda3/lib/python3.8/site-packages/scipy/ndimage/measurements.py:684: RuntimeWarning: invalid value encountered in true_divide\n",
      "  return sum / numpy.asanyarray(count).astype(numpy.float64)\n",
      "/home/javi/anaconda3/lib/python3.8/site-packages/scipy/ndimage/measurements.py:684: RuntimeWarning: invalid value encountered in true_divide\n",
      "  return sum / numpy.asanyarray(count).astype(numpy.float64)\n",
      "/home/javi/anaconda3/lib/python3.8/site-packages/scipy/ndimage/measurements.py:684: RuntimeWarning: invalid value encountered in true_divide\n",
      "  return sum / numpy.asanyarray(count).astype(numpy.float64)\n",
      "/home/javi/anaconda3/lib/python3.8/site-packages/scipy/ndimage/measurements.py:684: RuntimeWarning: invalid value encountered in true_divide\n",
      "  return sum / numpy.asanyarray(count).astype(numpy.float64)\n",
      "/home/javi/anaconda3/lib/python3.8/site-packages/scipy/ndimage/measurements.py:684: RuntimeWarning: invalid value encountered in true_divide\n",
      "  return sum / numpy.asanyarray(count).astype(numpy.float64)\n",
      "/home/javi/anaconda3/lib/python3.8/site-packages/scipy/ndimage/measurements.py:684: RuntimeWarning: invalid value encountered in true_divide\n",
      "  return sum / numpy.asanyarray(count).astype(numpy.float64)\n",
      "/home/javi/anaconda3/lib/python3.8/site-packages/scipy/ndimage/measurements.py:684: RuntimeWarning: invalid value encountered in true_divide\n",
      "  return sum / numpy.asanyarray(count).astype(numpy.float64)\n",
      "/home/javi/anaconda3/lib/python3.8/site-packages/scipy/ndimage/measurements.py:684: RuntimeWarning: invalid value encountered in true_divide\n",
      "  return sum / numpy.asanyarray(count).astype(numpy.float64)\n",
      "/home/javi/anaconda3/lib/python3.8/site-packages/scipy/ndimage/measurements.py:684: RuntimeWarning: invalid value encountered in true_divide\n",
      "  return sum / numpy.asanyarray(count).astype(numpy.float64)\n",
      "/home/javi/anaconda3/lib/python3.8/site-packages/scipy/ndimage/measurements.py:684: RuntimeWarning: invalid value encountered in true_divide\n",
      "  return sum / numpy.asanyarray(count).astype(numpy.float64)\n",
      "/home/javi/anaconda3/lib/python3.8/site-packages/scipy/ndimage/measurements.py:684: RuntimeWarning: invalid value encountered in true_divide\n",
      "  return sum / numpy.asanyarray(count).astype(numpy.float64)\n",
      "/home/javi/anaconda3/lib/python3.8/site-packages/scipy/ndimage/measurements.py:684: RuntimeWarning: invalid value encountered in true_divide\n",
      "  return sum / numpy.asanyarray(count).astype(numpy.float64)\n",
      "/home/javi/anaconda3/lib/python3.8/site-packages/scipy/ndimage/measurements.py:684: RuntimeWarning: invalid value encountered in true_divide\n",
      "  return sum / numpy.asanyarray(count).astype(numpy.float64)\n",
      "/home/javi/anaconda3/lib/python3.8/site-packages/scipy/ndimage/measurements.py:684: RuntimeWarning: invalid value encountered in true_divide\n",
      "  return sum / numpy.asanyarray(count).astype(numpy.float64)\n",
      "/home/javi/anaconda3/lib/python3.8/site-packages/scipy/ndimage/measurements.py:684: RuntimeWarning: invalid value encountered in true_divide\n",
      "  return sum / numpy.asanyarray(count).astype(numpy.float64)\n",
      "/home/javi/anaconda3/lib/python3.8/site-packages/scipy/ndimage/measurements.py:684: RuntimeWarning: invalid value encountered in true_divide\n",
      "  return sum / numpy.asanyarray(count).astype(numpy.float64)\n",
      "/home/javi/anaconda3/lib/python3.8/site-packages/scipy/ndimage/measurements.py:684: RuntimeWarning: invalid value encountered in true_divide\n",
      "  return sum / numpy.asanyarray(count).astype(numpy.float64)\n",
      "/home/javi/anaconda3/lib/python3.8/site-packages/scipy/ndimage/measurements.py:684: RuntimeWarning: invalid value encountered in true_divide\n",
      "  return sum / numpy.asanyarray(count).astype(numpy.float64)\n",
      "/home/javi/anaconda3/lib/python3.8/site-packages/scipy/ndimage/measurements.py:684: RuntimeWarning: invalid value encountered in true_divide\n",
      "  return sum / numpy.asanyarray(count).astype(numpy.float64)\n",
      "/home/javi/anaconda3/lib/python3.8/site-packages/scipy/ndimage/measurements.py:684: RuntimeWarning: invalid value encountered in true_divide\n",
      "  return sum / numpy.asanyarray(count).astype(numpy.float64)\n",
      "/home/javi/anaconda3/lib/python3.8/site-packages/scipy/ndimage/measurements.py:684: RuntimeWarning: invalid value encountered in true_divide\n",
      "  return sum / numpy.asanyarray(count).astype(numpy.float64)\n",
      "/home/javi/anaconda3/lib/python3.8/site-packages/scipy/ndimage/measurements.py:684: RuntimeWarning: invalid value encountered in true_divide\n",
      "  return sum / numpy.asanyarray(count).astype(numpy.float64)\n",
      "/home/javi/anaconda3/lib/python3.8/site-packages/scipy/ndimage/measurements.py:684: RuntimeWarning: invalid value encountered in true_divide\n",
      "  return sum / numpy.asanyarray(count).astype(numpy.float64)\n",
      "/home/javi/anaconda3/lib/python3.8/site-packages/scipy/ndimage/measurements.py:684: RuntimeWarning: invalid value encountered in true_divide\n",
      "  return sum / numpy.asanyarray(count).astype(numpy.float64)\n",
      "/home/javi/anaconda3/lib/python3.8/site-packages/scipy/ndimage/measurements.py:684: RuntimeWarning: invalid value encountered in true_divide\n",
      "  return sum / numpy.asanyarray(count).astype(numpy.float64)\n",
      "/home/javi/anaconda3/lib/python3.8/site-packages/scipy/ndimage/measurements.py:684: RuntimeWarning: invalid value encountered in true_divide\n",
      "  return sum / numpy.asanyarray(count).astype(numpy.float64)\n",
      "/home/javi/anaconda3/lib/python3.8/site-packages/scipy/ndimage/measurements.py:684: RuntimeWarning: invalid value encountered in true_divide\n",
      "  return sum / numpy.asanyarray(count).astype(numpy.float64)\n"
     ]
    },
    {
     "name": "stderr",
     "output_type": "stream",
     "text": [
      "/home/javi/anaconda3/lib/python3.8/site-packages/scipy/ndimage/measurements.py:684: RuntimeWarning: invalid value encountered in true_divide\n",
      "  return sum / numpy.asanyarray(count).astype(numpy.float64)\n",
      "/home/javi/anaconda3/lib/python3.8/site-packages/scipy/ndimage/measurements.py:684: RuntimeWarning: invalid value encountered in true_divide\n",
      "  return sum / numpy.asanyarray(count).astype(numpy.float64)\n",
      "/home/javi/anaconda3/lib/python3.8/site-packages/scipy/ndimage/measurements.py:684: RuntimeWarning: invalid value encountered in true_divide\n",
      "  return sum / numpy.asanyarray(count).astype(numpy.float64)\n",
      "/home/javi/anaconda3/lib/python3.8/site-packages/scipy/ndimage/measurements.py:684: RuntimeWarning: invalid value encountered in true_divide\n",
      "  return sum / numpy.asanyarray(count).astype(numpy.float64)\n",
      "/home/javi/anaconda3/lib/python3.8/site-packages/scipy/ndimage/measurements.py:684: RuntimeWarning: invalid value encountered in true_divide\n",
      "  return sum / numpy.asanyarray(count).astype(numpy.float64)\n",
      "/home/javi/anaconda3/lib/python3.8/site-packages/scipy/ndimage/measurements.py:684: RuntimeWarning: invalid value encountered in true_divide\n",
      "  return sum / numpy.asanyarray(count).astype(numpy.float64)\n",
      "/home/javi/anaconda3/lib/python3.8/site-packages/scipy/ndimage/measurements.py:684: RuntimeWarning: invalid value encountered in true_divide\n",
      "  return sum / numpy.asanyarray(count).astype(numpy.float64)\n",
      "/home/javi/anaconda3/lib/python3.8/site-packages/scipy/ndimage/measurements.py:684: RuntimeWarning: invalid value encountered in true_divide\n",
      "  return sum / numpy.asanyarray(count).astype(numpy.float64)\n",
      "/home/javi/anaconda3/lib/python3.8/site-packages/scipy/ndimage/measurements.py:684: RuntimeWarning: invalid value encountered in true_divide\n",
      "  return sum / numpy.asanyarray(count).astype(numpy.float64)\n",
      "/home/javi/anaconda3/lib/python3.8/site-packages/scipy/ndimage/measurements.py:684: RuntimeWarning: invalid value encountered in true_divide\n",
      "  return sum / numpy.asanyarray(count).astype(numpy.float64)\n",
      "/home/javi/anaconda3/lib/python3.8/site-packages/scipy/ndimage/measurements.py:684: RuntimeWarning: invalid value encountered in true_divide\n",
      "  return sum / numpy.asanyarray(count).astype(numpy.float64)\n",
      "/home/javi/anaconda3/lib/python3.8/site-packages/scipy/ndimage/measurements.py:684: RuntimeWarning: invalid value encountered in true_divide\n",
      "  return sum / numpy.asanyarray(count).astype(numpy.float64)\n",
      "/home/javi/anaconda3/lib/python3.8/site-packages/scipy/ndimage/measurements.py:684: RuntimeWarning: invalid value encountered in true_divide\n",
      "  return sum / numpy.asanyarray(count).astype(numpy.float64)\n",
      "/home/javi/anaconda3/lib/python3.8/site-packages/scipy/ndimage/measurements.py:684: RuntimeWarning: invalid value encountered in true_divide\n",
      "  return sum / numpy.asanyarray(count).astype(numpy.float64)\n",
      "/home/javi/anaconda3/lib/python3.8/site-packages/scipy/ndimage/measurements.py:684: RuntimeWarning: invalid value encountered in true_divide\n",
      "  return sum / numpy.asanyarray(count).astype(numpy.float64)\n",
      "/home/javi/anaconda3/lib/python3.8/site-packages/scipy/ndimage/measurements.py:684: RuntimeWarning: invalid value encountered in true_divide\n",
      "  return sum / numpy.asanyarray(count).astype(numpy.float64)\n",
      "/home/javi/anaconda3/lib/python3.8/site-packages/scipy/ndimage/measurements.py:684: RuntimeWarning: invalid value encountered in true_divide\n",
      "  return sum / numpy.asanyarray(count).astype(numpy.float64)\n",
      "/home/javi/anaconda3/lib/python3.8/site-packages/scipy/ndimage/measurements.py:684: RuntimeWarning: invalid value encountered in true_divide\n",
      "  return sum / numpy.asanyarray(count).astype(numpy.float64)\n",
      "/home/javi/anaconda3/lib/python3.8/site-packages/scipy/ndimage/measurements.py:684: RuntimeWarning: invalid value encountered in true_divide\n",
      "  return sum / numpy.asanyarray(count).astype(numpy.float64)\n",
      "/home/javi/anaconda3/lib/python3.8/site-packages/scipy/ndimage/measurements.py:684: RuntimeWarning: invalid value encountered in true_divide\n",
      "  return sum / numpy.asanyarray(count).astype(numpy.float64)\n",
      "/home/javi/anaconda3/lib/python3.8/site-packages/scipy/ndimage/measurements.py:684: RuntimeWarning: invalid value encountered in true_divide\n",
      "  return sum / numpy.asanyarray(count).astype(numpy.float64)\n",
      "/home/javi/anaconda3/lib/python3.8/site-packages/scipy/ndimage/measurements.py:684: RuntimeWarning: invalid value encountered in true_divide\n",
      "  return sum / numpy.asanyarray(count).astype(numpy.float64)\n",
      "/home/javi/anaconda3/lib/python3.8/site-packages/scipy/ndimage/measurements.py:684: RuntimeWarning: invalid value encountered in true_divide\n",
      "  return sum / numpy.asanyarray(count).astype(numpy.float64)\n",
      "/home/javi/anaconda3/lib/python3.8/site-packages/scipy/ndimage/measurements.py:684: RuntimeWarning: invalid value encountered in true_divide\n",
      "  return sum / numpy.asanyarray(count).astype(numpy.float64)\n",
      "/home/javi/anaconda3/lib/python3.8/site-packages/scipy/ndimage/measurements.py:684: RuntimeWarning: invalid value encountered in true_divide\n",
      "  return sum / numpy.asanyarray(count).astype(numpy.float64)\n",
      "/home/javi/anaconda3/lib/python3.8/site-packages/scipy/ndimage/measurements.py:684: RuntimeWarning: invalid value encountered in true_divide\n",
      "  return sum / numpy.asanyarray(count).astype(numpy.float64)\n",
      "/home/javi/anaconda3/lib/python3.8/site-packages/scipy/ndimage/measurements.py:684: RuntimeWarning: invalid value encountered in true_divide\n",
      "  return sum / numpy.asanyarray(count).astype(numpy.float64)\n",
      "/home/javi/anaconda3/lib/python3.8/site-packages/scipy/ndimage/measurements.py:684: RuntimeWarning: invalid value encountered in true_divide\n",
      "  return sum / numpy.asanyarray(count).astype(numpy.float64)\n",
      "/home/javi/anaconda3/lib/python3.8/site-packages/scipy/ndimage/measurements.py:684: RuntimeWarning: invalid value encountered in true_divide\n",
      "  return sum / numpy.asanyarray(count).astype(numpy.float64)\n",
      "/home/javi/anaconda3/lib/python3.8/site-packages/scipy/ndimage/measurements.py:684: RuntimeWarning: invalid value encountered in true_divide\n",
      "  return sum / numpy.asanyarray(count).astype(numpy.float64)\n",
      "/home/javi/anaconda3/lib/python3.8/site-packages/scipy/ndimage/measurements.py:684: RuntimeWarning: invalid value encountered in true_divide\n",
      "  return sum / numpy.asanyarray(count).astype(numpy.float64)\n",
      "/home/javi/anaconda3/lib/python3.8/site-packages/scipy/ndimage/measurements.py:684: RuntimeWarning: invalid value encountered in true_divide\n",
      "  return sum / numpy.asanyarray(count).astype(numpy.float64)\n",
      "/home/javi/anaconda3/lib/python3.8/site-packages/scipy/ndimage/measurements.py:684: RuntimeWarning: invalid value encountered in true_divide\n",
      "  return sum / numpy.asanyarray(count).astype(numpy.float64)\n",
      "/home/javi/anaconda3/lib/python3.8/site-packages/scipy/ndimage/measurements.py:684: RuntimeWarning: invalid value encountered in true_divide\n",
      "  return sum / numpy.asanyarray(count).astype(numpy.float64)\n",
      "/home/javi/anaconda3/lib/python3.8/site-packages/scipy/ndimage/measurements.py:684: RuntimeWarning: invalid value encountered in true_divide\n",
      "  return sum / numpy.asanyarray(count).astype(numpy.float64)\n",
      "/home/javi/anaconda3/lib/python3.8/site-packages/scipy/ndimage/measurements.py:684: RuntimeWarning: invalid value encountered in true_divide\n",
      "  return sum / numpy.asanyarray(count).astype(numpy.float64)\n",
      "/home/javi/anaconda3/lib/python3.8/site-packages/scipy/ndimage/measurements.py:684: RuntimeWarning: invalid value encountered in true_divide\n",
      "  return sum / numpy.asanyarray(count).astype(numpy.float64)\n",
      "/home/javi/anaconda3/lib/python3.8/site-packages/scipy/ndimage/measurements.py:684: RuntimeWarning: invalid value encountered in true_divide\n",
      "  return sum / numpy.asanyarray(count).astype(numpy.float64)\n",
      "/home/javi/anaconda3/lib/python3.8/site-packages/scipy/ndimage/measurements.py:684: RuntimeWarning: invalid value encountered in true_divide\n",
      "  return sum / numpy.asanyarray(count).astype(numpy.float64)\n",
      "/home/javi/anaconda3/lib/python3.8/site-packages/scipy/ndimage/measurements.py:684: RuntimeWarning: invalid value encountered in true_divide\n",
      "  return sum / numpy.asanyarray(count).astype(numpy.float64)\n",
      "/home/javi/anaconda3/lib/python3.8/site-packages/scipy/ndimage/measurements.py:684: RuntimeWarning: invalid value encountered in true_divide\n",
      "  return sum / numpy.asanyarray(count).astype(numpy.float64)\n",
      "/home/javi/anaconda3/lib/python3.8/site-packages/scipy/ndimage/measurements.py:684: RuntimeWarning: invalid value encountered in true_divide\n",
      "  return sum / numpy.asanyarray(count).astype(numpy.float64)\n",
      "/home/javi/anaconda3/lib/python3.8/site-packages/scipy/ndimage/measurements.py:684: RuntimeWarning: invalid value encountered in true_divide\n",
      "  return sum / numpy.asanyarray(count).astype(numpy.float64)\n"
     ]
    },
    {
     "name": "stderr",
     "output_type": "stream",
     "text": [
      "/home/javi/anaconda3/lib/python3.8/site-packages/scipy/ndimage/measurements.py:684: RuntimeWarning: invalid value encountered in true_divide\n",
      "  return sum / numpy.asanyarray(count).astype(numpy.float64)\n",
      "/home/javi/anaconda3/lib/python3.8/site-packages/scipy/ndimage/measurements.py:684: RuntimeWarning: invalid value encountered in true_divide\n",
      "  return sum / numpy.asanyarray(count).astype(numpy.float64)\n",
      "/home/javi/anaconda3/lib/python3.8/site-packages/scipy/ndimage/measurements.py:684: RuntimeWarning: invalid value encountered in true_divide\n",
      "  return sum / numpy.asanyarray(count).astype(numpy.float64)\n",
      "/home/javi/anaconda3/lib/python3.8/site-packages/scipy/ndimage/measurements.py:684: RuntimeWarning: invalid value encountered in true_divide\n",
      "  return sum / numpy.asanyarray(count).astype(numpy.float64)\n",
      "/home/javi/anaconda3/lib/python3.8/site-packages/scipy/ndimage/measurements.py:684: RuntimeWarning: invalid value encountered in true_divide\n",
      "  return sum / numpy.asanyarray(count).astype(numpy.float64)\n",
      "/home/javi/anaconda3/lib/python3.8/site-packages/scipy/ndimage/measurements.py:684: RuntimeWarning: invalid value encountered in true_divide\n",
      "  return sum / numpy.asanyarray(count).astype(numpy.float64)\n",
      "/home/javi/anaconda3/lib/python3.8/site-packages/scipy/ndimage/measurements.py:684: RuntimeWarning: invalid value encountered in true_divide\n",
      "  return sum / numpy.asanyarray(count).astype(numpy.float64)\n",
      "/home/javi/anaconda3/lib/python3.8/site-packages/scipy/ndimage/measurements.py:684: RuntimeWarning: invalid value encountered in true_divide\n",
      "  return sum / numpy.asanyarray(count).astype(numpy.float64)\n",
      "/home/javi/anaconda3/lib/python3.8/site-packages/scipy/ndimage/measurements.py:684: RuntimeWarning: invalid value encountered in true_divide\n",
      "  return sum / numpy.asanyarray(count).astype(numpy.float64)\n",
      "/home/javi/anaconda3/lib/python3.8/site-packages/scipy/ndimage/measurements.py:684: RuntimeWarning: invalid value encountered in true_divide\n",
      "  return sum / numpy.asanyarray(count).astype(numpy.float64)\n",
      "/home/javi/anaconda3/lib/python3.8/site-packages/scipy/ndimage/measurements.py:684: RuntimeWarning: invalid value encountered in true_divide\n",
      "  return sum / numpy.asanyarray(count).astype(numpy.float64)\n",
      "/home/javi/anaconda3/lib/python3.8/site-packages/scipy/ndimage/measurements.py:684: RuntimeWarning: invalid value encountered in true_divide\n",
      "  return sum / numpy.asanyarray(count).astype(numpy.float64)\n",
      "/home/javi/anaconda3/lib/python3.8/site-packages/scipy/ndimage/measurements.py:684: RuntimeWarning: invalid value encountered in true_divide\n",
      "  return sum / numpy.asanyarray(count).astype(numpy.float64)\n",
      "/home/javi/anaconda3/lib/python3.8/site-packages/scipy/ndimage/measurements.py:684: RuntimeWarning: invalid value encountered in true_divide\n",
      "  return sum / numpy.asanyarray(count).astype(numpy.float64)\n",
      "/home/javi/anaconda3/lib/python3.8/site-packages/scipy/ndimage/measurements.py:684: RuntimeWarning: invalid value encountered in true_divide\n",
      "  return sum / numpy.asanyarray(count).astype(numpy.float64)\n"
     ]
    }
   ],
   "source": [
    "motion_thr = 0.35\n",
    "\n",
    "stroop_low_motion_df = stroop_df[stroop_df.FWD < motion_thr]\n",
    "msit_low_motion_df = msit_df[msit_df.FWD < motion_thr]\n",
    "resting_low_motion_df = resting_df[resting_df.FWD < motion_thr]\n",
    "\n",
    "subjects_intersect = list(set(reactivity_df.SUB_ID.to_list()) & \\\n",
    "                           set(stroop_low_motion_df.SUB_ID.to_list()) & \\\n",
    "                           set(msit_low_motion_df.SUB_ID.to_list()) & \\\n",
    "                           set(resting_low_motion_df.SUB_ID.to_list())\n",
    "                          )\n",
    "\n",
    "print(len(subjects_intersect))\n",
    "\n",
    "np.savetxt(\"../data/subjects_intersect_motion_%s_brainmask.txt\" % str(motion_thr*100).split(\".\")[0].zfill(3),  \n",
    "           subjects_intersect, fmt=\"%d\")"
   ]
  },
  {
   "cell_type": "code",
   "execution_count": 10,
   "metadata": {},
   "outputs": [
    {
     "name": "stdout",
     "output_type": "stream",
     "text": [
      "242\n"
     ]
    }
   ],
   "source": [
    "motion_thr = 0.35\n",
    "\n",
    "stroop_low_motion_df = stroop_df[stroop_df.FWD < motion_thr]\n",
    "msit_low_motion_df = msit_df[msit_df.FWD < motion_thr]\n",
    "resting_low_motion_df = resting_df[resting_df.FWD < motion_thr]\n",
    "\n",
    "subjects_intersect = list(set(reactivity_df.SUB_ID.to_list()) & \\\n",
    "                           set(stroop_low_motion_df.SUB_ID.to_list()) & \\\n",
    "                           set(msit_low_motion_df.SUB_ID.to_list()) & \\\n",
    "                           set(resting_low_motion_df.SUB_ID.to_list())\n",
    "                          )\n",
    "\n",
    "print(len(subjects_intersect))\n",
    "\n",
    "np.savetxt(\"../data/subjects_intersect_motion_%s.txt\" % str(motion_thr*100).split(\".\")[0].zfill(3),  \n",
    "           subjects_intersect, fmt=\"%d\")"
   ]
  },
  {
   "cell_type": "code",
   "execution_count": 11,
   "metadata": {},
   "outputs": [
    {
     "name": "stdout",
     "output_type": "stream",
     "text": [
      "30.0\n",
      "51.0\n"
     ]
    }
   ],
   "source": [
    "# Age ranges\n",
    "print(pd.merge(pd.DataFrame({'ePrime.id':np.loadtxt(\"../data/subjects_intersect_motion_035.txt\")}),\n",
    "         pd.read_spss(\"../data/demo/PIP_n330_03_26_2019.sav\"), on = 'ePrime.id').age.min())\n",
    "print(pd.merge(pd.DataFrame({'ePrime.id':np.loadtxt(\"../data/subjects_intersect_motion_035.txt\")}),\n",
    "         pd.read_spss(\"../data/demo/PIP_n330_03_26_2019.sav\"), on = 'ePrime.id').age.max())"
   ]
  },
  {
   "cell_type": "code",
   "execution_count": 12,
   "metadata": {},
   "outputs": [
    {
     "name": "stdout",
     "output_type": "stream",
     "text": [
      "40.00826446280992\n",
      "6.226693797482864\n"
     ]
    }
   ],
   "source": [
    "# Age mean and std\n",
    "print(pd.merge(pd.DataFrame({'ePrime.id':np.loadtxt(\"../data/subjects_intersect_motion_035.txt\")}),\n",
    "         pd.read_spss(\"../data/demo/PIP_n330_03_26_2019.sav\"), on = 'ePrime.id').age.mean())\n",
    "\n",
    "print(pd.merge(pd.DataFrame({'ePrime.id':np.loadtxt(\"../data/subjects_intersect_motion_035.txt\")}),\n",
    "         pd.read_spss(\"../data/demo/PIP_n330_03_26_2019.sav\"), on = 'ePrime.id').age.std())"
   ]
  },
  {
   "cell_type": "code",
   "execution_count": 13,
   "metadata": {},
   "outputs": [
    {
     "data": {
      "text/plain": [
       "MALE      123\n",
       "FEMALE    119\n",
       "Name: gender, dtype: int64"
      ]
     },
     "execution_count": 13,
     "metadata": {},
     "output_type": "execute_result"
    }
   ],
   "source": [
    "# Sex counts\n",
    "pd.merge(pd.DataFrame({'ePrime.id':np.loadtxt(\"../data/subjects_intersect_motion_035.txt\")}),\n",
    "         pd.read_spss(\"../data/demo/PIP_n330_03_26_2019.sav\"), on = 'ePrime.id').gender.value_counts()"
   ]
  }
 ],
 "metadata": {
  "kernelspec": {
   "display_name": "Python 3 (ipykernel)",
   "language": "python",
   "name": "python3"
  },
  "language_info": {
   "codemirror_mode": {
    "name": "ipython",
    "version": 3
   },
   "file_extension": ".py",
   "mimetype": "text/x-python",
   "name": "python",
   "nbconvert_exporter": "python",
   "pygments_lexer": "ipython3",
   "version": "3.8.13"
  }
 },
 "nbformat": 4,
 "nbformat_minor": 4
}
