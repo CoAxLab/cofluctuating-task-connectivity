{
 "cells": [
  {
   "cell_type": "markdown",
   "metadata": {},
   "source": [
    "Notebook to create the final list of subjects. Criteria:\n",
    "- Have reactivity information.\n",
    "- both stroop, msit and rest have full atlas coverage.\n",
    "- be low motion"
   ]
  },
  {
   "cell_type": "code",
   "execution_count": 1,
   "metadata": {},
   "outputs": [],
   "source": [
    "import numpy as np\n",
    "import pandas as pd\n",
    "import matplotlib.pyplot as plt\n",
    "import regex as re\n",
    "import os \n",
    "from tqdm import tqdm\n",
    "from nilearn import image, input_data\n",
    "from joblib import Parallel, delayed"
   ]
  },
  {
   "cell_type": "code",
   "execution_count": 2,
   "metadata": {},
   "outputs": [],
   "source": [
    "# subjects with reactivity\n",
    "subjects_reactivity = pd.read_csv(\"../data/demo/pip_reactivity_2020.csv\").id.to_list()\n",
    "reactivity_df = pd.DataFrame({'SUB_ID': subjects_reactivity})"
   ]
  },
  {
   "cell_type": "code",
   "execution_count": 3,
   "metadata": {},
   "outputs": [],
   "source": [
    "atlas_file = \"../data/atlases/shen_2mm_268_parcellation.nii.gz\"\n",
    "\n",
    "def check_acquisition_task(img_file):\n",
    "    \"\"\"\n",
    "    \n",
    "    function to check that we have a full acquisition (280 scans) and \n",
    "    that atlas fit subject (all ROI have signal)\n",
    "    \n",
    "    \"\"\"\n",
    "    \n",
    "    masker = input_data.NiftiLabelsMasker(atlas_file)\n",
    "    roi_data = masker.fit_transform(img_file)\n",
    "    n_obs = roi_data.shape[0]\n",
    "    \n",
    "    full_acq = False\n",
    "    if n_obs == 280:\n",
    "        full_acq = True\n",
    "    \n",
    "    roi_data_std = np.std(roi_data, axis=0)\n",
    "    all_rois = ~np.any(roi_data_std == 0)\n",
    "    is_ok = (full_acq==True) & (all_rois==True)\n",
    "    \n",
    "    return is_ok\n",
    "\n",
    "def check_acquisition_rest(img_file):\n",
    "    \"\"\"\n",
    "    \n",
    "    function to check that we have a full acquisition (150 scans) and \n",
    "    and that atlas fit subject (all ROI have signal)\n",
    "    \n",
    "    \"\"\"\n",
    "    \n",
    "    masker = input_data.NiftiLabelsMasker(atlas_file)\n",
    "    roi_data = masker.fit_transform(img_file)\n",
    "    n_obs = roi_data.shape[0]\n",
    "    \n",
    "    full_acq = False\n",
    "    if n_obs == 150:\n",
    "        full_acq = True\n",
    "    \n",
    "    roi_data_std = np.std(roi_data, axis=0)\n",
    "    all_rois = ~np.any(roi_data_std == 0)\n",
    "    \n",
    "    is_ok = (full_acq==True) & (all_rois==True)\n",
    "    \n",
    "    return is_ok"
   ]
  },
  {
   "cell_type": "code",
   "execution_count": 4,
   "metadata": {},
   "outputs": [
    {
     "name": "stderr",
     "output_type": "stream",
     "text": [
      "100%|████████████████████████████████████████████████████████████████████████████████████████████████████████████████████████████████████████████████████████████████████| 333/333 [00:04<00:00, 68.41it/s]\n",
      "100%|████████████████████████████████████████████████████████████████████████████████████████████████████████████████████████████████████████████████████████████████████| 333/333 [03:40<00:00,  1.51it/s]\n"
     ]
    }
   ],
   "source": [
    "task_id = \"stroop\"\n",
    "pattern = \"sub-(.*)_ses-01_task-%s_space-MNI152NLin2009cAsym_desc-preproc_bold.nii.gz\" % task_id\n",
    "pattern_confounders = \"../data/confounders/task-%s\" % task_id + \"/sub-%s\" + \"_ses-01_task-%s_desc-confounds_regressors.tsv\" % task_id\n",
    "list_subjects_ids = []\n",
    "list_subjects_fwd = []\n",
    "\n",
    "for filename in tqdm(os.listdir(\"../data/preproc_bold/task-%s\" % task_id)):\n",
    "    subj = re.findall(pattern=pattern, string=filename)[0]\n",
    "\n",
    "    list_subjects_ids.append(int(subj))\n",
    "    \n",
    "    fwd = pd.read_csv(pattern_confounders % subj, sep=\"\\t\").framewise_displacement.dropna().mean()\n",
    "    list_subjects_fwd.append(fwd)\n",
    "    \n",
    "stroop_df = pd.DataFrame({'SUB_ID': list_subjects_ids, 'FWD': list_subjects_fwd})\n",
    "stroop_df.head()\n",
    "\n",
    "parallel = Parallel(n_jobs=-1)\n",
    "is_ok = parallel(delayed(check_acquisition_task)(\"../data/preproc_bold/task-%s\" % task_id + \"/\" + filename) \\\n",
    "                     for filename in tqdm(os.listdir(\"../data/preproc_bold/task-%s\" % task_id)))\n",
    "is_ok = np.array(is_ok)\n",
    "\n",
    "stroop_df = stroop_df.loc[is_ok,:]"
   ]
  },
  {
   "cell_type": "code",
   "execution_count": 5,
   "metadata": {},
   "outputs": [
    {
     "data": {
      "text/plain": [
       "(322, 2)"
      ]
     },
     "execution_count": 5,
     "metadata": {},
     "output_type": "execute_result"
    }
   ],
   "source": [
    "stroop_df.shape"
   ]
  },
  {
   "cell_type": "code",
   "execution_count": 6,
   "metadata": {},
   "outputs": [
    {
     "name": "stderr",
     "output_type": "stream",
     "text": [
      "100%|████████████████████████████████████████████████████████████████████████████████████████████████████████████████████████████████████████████████████████████████████| 335/335 [00:05<00:00, 58.15it/s]\n",
      "100%|████████████████████████████████████████████████████████████████████████████████████████████████████████████████████████████████████████████████████████████████████| 335/335 [03:32<00:00,  1.58it/s]\n"
     ]
    }
   ],
   "source": [
    "task_id = \"msit\"\n",
    "pattern = \"sub-(.*)_ses-01_task-%s_space-MNI152NLin2009cAsym_desc-preproc_bold.nii.gz\" % task_id\n",
    "pattern_confounders = \"../data/confounders/task-%s\" % task_id + \"/sub-%s\" + \"_ses-01_task-%s_desc-confounds_regressors.tsv\" % task_id\n",
    "list_subjects_ids = []\n",
    "list_subjects_fwd = []\n",
    "\n",
    "for filename in tqdm(os.listdir(\"../data/preproc_bold/task-%s\" % task_id)):\n",
    "    subj = re.findall(pattern=pattern, string=filename)[0]\n",
    "\n",
    "    list_subjects_ids.append(int(subj))\n",
    "    \n",
    "    fwd = pd.read_csv(pattern_confounders % subj, sep=\"\\t\").framewise_displacement.dropna().mean()\n",
    "    list_subjects_fwd.append(fwd)\n",
    "    \n",
    "msit_df = pd.DataFrame({'SUB_ID': list_subjects_ids, 'FWD': list_subjects_fwd})\n",
    "msit_df.head()\n",
    "\n",
    "parallel = Parallel(n_jobs=-1)\n",
    "is_ok = parallel(delayed(check_acquisition_task)(\"../data/preproc_bold/task-%s\" % task_id + \"/\" + filename) \\\n",
    "                     for filename in tqdm(os.listdir(\"../data/preproc_bold/task-%s\" % task_id)))\n",
    "is_ok = np.array(is_ok)\n",
    "\n",
    "msit_df = msit_df.loc[is_ok,:]"
   ]
  },
  {
   "cell_type": "code",
   "execution_count": 7,
   "metadata": {},
   "outputs": [
    {
     "data": {
      "text/plain": [
       "(317, 2)"
      ]
     },
     "execution_count": 7,
     "metadata": {},
     "output_type": "execute_result"
    }
   ],
   "source": [
    "msit_df.shape"
   ]
  },
  {
   "cell_type": "code",
   "execution_count": 8,
   "metadata": {},
   "outputs": [
    {
     "name": "stderr",
     "output_type": "stream",
     "text": [
      "100%|███████████████████████████████████████████████████████████████████████████████████████████████████████████████████████████████████████████████████████████████████| 334/334 [00:02<00:00, 112.47it/s]\n",
      "100%|████████████████████████████████████████████████████████████████████████████████████████████████████████████████████████████████████████████████████████████████████| 334/334 [01:52<00:00,  2.98it/s]\n"
     ]
    }
   ],
   "source": [
    "task_id = \"rest\"\n",
    "pattern = \"sub-(.*)_ses-01_task-%s_space-MNI152NLin2009cAsym_desc-preproc_bold.nii.gz\" % task_id\n",
    "pattern_confounders = \"../data/confounders/task-%s\" % task_id + \"/sub-%s\" + \"_ses-01_task-%s_desc-confounds_regressors.tsv\" % task_id\n",
    "list_subjects_ids = []\n",
    "list_subjects_fwd = []\n",
    "\n",
    "for filename in tqdm(os.listdir(\"../data/preproc_bold/task-%s\" % task_id)):\n",
    "    subj = re.findall(pattern=pattern, string=filename)[0]\n",
    "\n",
    "    list_subjects_ids.append(int(subj))\n",
    "    \n",
    "    fwd = pd.read_csv(pattern_confounders % subj, sep=\"\\t\").framewise_displacement.dropna().mean()\n",
    "    list_subjects_fwd.append(fwd)\n",
    "    \n",
    "resting_df = pd.DataFrame({'SUB_ID': list_subjects_ids, 'FWD': list_subjects_fwd})\n",
    "resting_df.head()\n",
    "\n",
    "parallel = Parallel(n_jobs=-1)\n",
    "is_ok = parallel(delayed(check_acquisition_rest)(\"../data/preproc_bold/task-%s\" % task_id + \"/\" + filename) \\\n",
    "                     for filename in tqdm(os.listdir(\"../data/preproc_bold/task-%s\" % task_id)))\n",
    "is_ok = np.array(is_ok)\n",
    "\n",
    "resting_df = resting_df.loc[is_ok,:]"
   ]
  },
  {
   "cell_type": "code",
   "execution_count": 9,
   "metadata": {},
   "outputs": [
    {
     "data": {
      "text/plain": [
       "(309, 2)"
      ]
     },
     "execution_count": 9,
     "metadata": {},
     "output_type": "execute_result"
    }
   ],
   "source": [
    "resting_df.shape"
   ]
  },
  {
   "cell_type": "markdown",
   "metadata": {},
   "source": [
    "Find intersection among subjects that have a low in-scanner motion (0.35 mm), measured using Power's method. We used this threshold as a compromise between number of subjects screened and motion"
   ]
  },
  {
   "cell_type": "code",
   "execution_count": 10,
   "metadata": {},
   "outputs": [
    {
     "name": "stdout",
     "output_type": "stream",
     "text": [
      "242\n"
     ]
    }
   ],
   "source": [
    "motion_thr = 0.35\n",
    "\n",
    "stroop_low_motion_df = stroop_df[stroop_df.FWD < motion_thr]\n",
    "msit_low_motion_df = msit_df[msit_df.FWD < motion_thr]\n",
    "resting_low_motion_df = resting_df[resting_df.FWD < motion_thr]\n",
    "\n",
    "subjects_intersect = list(set(reactivity_df.SUB_ID.to_list()) & \\\n",
    "                           set(stroop_low_motion_df.SUB_ID.to_list()) & \\\n",
    "                           set(msit_low_motion_df.SUB_ID.to_list()) & \\\n",
    "                           set(resting_low_motion_df.SUB_ID.to_list())\n",
    "                          )\n",
    "\n",
    "print(len(subjects_intersect))\n",
    "\n",
    "np.savetxt(\"../data/subjects_intersect_motion_%s.txt\" % str(motion_thr*100).split(\".\")[0].zfill(3),  \n",
    "           subjects_intersect, fmt=\"%d\")"
   ]
  },
  {
   "cell_type": "code",
   "execution_count": 11,
   "metadata": {},
   "outputs": [
    {
     "name": "stdout",
     "output_type": "stream",
     "text": [
      "30.0\n",
      "51.0\n"
     ]
    }
   ],
   "source": [
    "# Age ranges\n",
    "print(pd.merge(pd.DataFrame({'ePrime.id':np.loadtxt(\"../data/subjects_intersect_motion_035.txt\")}),\n",
    "         pd.read_spss(\"../data/demo/PIP_n330_03_26_2019.sav\"), on = 'ePrime.id').age.min())\n",
    "print(pd.merge(pd.DataFrame({'ePrime.id':np.loadtxt(\"../data/subjects_intersect_motion_035.txt\")}),\n",
    "         pd.read_spss(\"../data/demo/PIP_n330_03_26_2019.sav\"), on = 'ePrime.id').age.max())"
   ]
  },
  {
   "cell_type": "code",
   "execution_count": 12,
   "metadata": {},
   "outputs": [
    {
     "name": "stdout",
     "output_type": "stream",
     "text": [
      "40.00826446280992\n",
      "6.226693797482864\n"
     ]
    }
   ],
   "source": [
    "# Age mean and std\n",
    "print(pd.merge(pd.DataFrame({'ePrime.id':np.loadtxt(\"../data/subjects_intersect_motion_035.txt\")}),\n",
    "         pd.read_spss(\"../data/demo/PIP_n330_03_26_2019.sav\"), on = 'ePrime.id').age.mean())\n",
    "\n",
    "print(pd.merge(pd.DataFrame({'ePrime.id':np.loadtxt(\"../data/subjects_intersect_motion_035.txt\")}),\n",
    "         pd.read_spss(\"../data/demo/PIP_n330_03_26_2019.sav\"), on = 'ePrime.id').age.std())"
   ]
  },
  {
   "cell_type": "code",
   "execution_count": 13,
   "metadata": {},
   "outputs": [
    {
     "data": {
      "text/plain": [
       "MALE      123\n",
       "FEMALE    119\n",
       "Name: gender, dtype: int64"
      ]
     },
     "execution_count": 13,
     "metadata": {},
     "output_type": "execute_result"
    }
   ],
   "source": [
    "# Sex counts\n",
    "pd.merge(pd.DataFrame({'ePrime.id':np.loadtxt(\"../data/subjects_intersect_motion_035.txt\")}),\n",
    "         pd.read_spss(\"../data/demo/PIP_n330_03_26_2019.sav\"), on = 'ePrime.id').gender.value_counts()"
   ]
  }
 ],
 "metadata": {
  "kernelspec": {
   "display_name": "Python 3 (ipykernel)",
   "language": "python",
   "name": "python3"
  },
  "language_info": {
   "codemirror_mode": {
    "name": "ipython",
    "version": 3
   },
   "file_extension": ".py",
   "mimetype": "text/x-python",
   "name": "python",
   "nbconvert_exporter": "python",
   "pygments_lexer": "ipython3",
   "version": "3.8.11"
  }
 },
 "nbformat": 4,
 "nbformat_minor": 4
}
