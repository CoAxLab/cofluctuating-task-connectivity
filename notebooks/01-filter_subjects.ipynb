{
 "cells": [
  {
   "cell_type": "markdown",
   "metadata": {},
   "source": [
    "Notebook to create the final list of subjects. Criteria:\n",
    "- Have reactivity information\n",
    "- both have stroop and msit\n",
    "- be low motion for both tasks\n",
    "- something else? resting as well?"
   ]
  },
  {
   "cell_type": "code",
   "execution_count": 1,
   "metadata": {},
   "outputs": [],
   "source": [
    "import numpy as np\n",
    "import pandas as pd\n",
    "import regex as re\n",
    "import os \n",
    "from tqdm import tqdm\n",
    "from nilearn import image, input_data\n",
    "from joblib import Parallel, delayed"
   ]
  },
  {
   "cell_type": "code",
   "execution_count": 2,
   "metadata": {},
   "outputs": [
    {
     "data": {
      "text/plain": [
       "sbp_reactivity_both      False\n",
       "sbp_reactivity_stroop    False\n",
       "sbp_reactivity_msit      False\n",
       "dbp_reactivity_both      False\n",
       "dbp_reactivity_stroop    False\n",
       "dbp_reactivity_msit      False\n",
       "map_reactivity_both      False\n",
       "map_reactivity_stroop    False\n",
       "map_reactivity_msit      False\n",
       "hr_reactivity_both       False\n",
       "hr_reactivity_stroop     False\n",
       "hr_reactivity_msit       False\n",
       "dtype: bool"
      ]
     },
     "execution_count": 2,
     "metadata": {},
     "output_type": "execute_result"
    }
   ],
   "source": [
    "# No nans in this dataset for reactivity\n",
    "pd.read_csv(\"../data/pip_reactivity_2020.csv\").filter(regex=\"reactivity\").isna().any()"
   ]
  },
  {
   "cell_type": "code",
   "execution_count": 3,
   "metadata": {},
   "outputs": [
    {
     "data": {
      "text/html": [
       "<div>\n",
       "<style scoped>\n",
       "    .dataframe tbody tr th:only-of-type {\n",
       "        vertical-align: middle;\n",
       "    }\n",
       "\n",
       "    .dataframe tbody tr th {\n",
       "        vertical-align: top;\n",
       "    }\n",
       "\n",
       "    .dataframe thead th {\n",
       "        text-align: right;\n",
       "    }\n",
       "</style>\n",
       "<table border=\"1\" class=\"dataframe\">\n",
       "  <thead>\n",
       "    <tr style=\"text-align: right;\">\n",
       "      <th></th>\n",
       "      <th>SUB_ID</th>\n",
       "    </tr>\n",
       "  </thead>\n",
       "  <tbody>\n",
       "    <tr>\n",
       "      <th>0</th>\n",
       "      <td>1002</td>\n",
       "    </tr>\n",
       "    <tr>\n",
       "      <th>1</th>\n",
       "      <td>1003</td>\n",
       "    </tr>\n",
       "    <tr>\n",
       "      <th>2</th>\n",
       "      <td>1004</td>\n",
       "    </tr>\n",
       "    <tr>\n",
       "      <th>3</th>\n",
       "      <td>1005</td>\n",
       "    </tr>\n",
       "    <tr>\n",
       "      <th>4</th>\n",
       "      <td>1006</td>\n",
       "    </tr>\n",
       "  </tbody>\n",
       "</table>\n",
       "</div>"
      ],
      "text/plain": [
       "   SUB_ID\n",
       "0    1002\n",
       "1    1003\n",
       "2    1004\n",
       "3    1005\n",
       "4    1006"
      ]
     },
     "execution_count": 3,
     "metadata": {},
     "output_type": "execute_result"
    }
   ],
   "source": [
    "# subjects with reactivity\n",
    "subjects_reactivity = pd.read_csv(\"../data/pip_reactivity_2020.csv\").id.to_list()\n",
    "\n",
    "reactivity_df = pd.DataFrame({'SUB_ID': subjects_reactivity})\n",
    "reactivity_df.head()"
   ]
  },
  {
   "cell_type": "code",
   "execution_count": 4,
   "metadata": {},
   "outputs": [],
   "source": [
    "atlas_file = \"../data/shen_2mm_268_parcellation.nii.gz\"\n",
    "\n",
    "def check_acquisition_task(img_file):\n",
    "    \"\"\"\n",
    "    \n",
    "    function to check that we have a full acquisition (280 scans) and \n",
    "    that nifti masker \n",
    "    \n",
    "    \"\"\"\n",
    "    \n",
    "    masker = input_data.NiftiLabelsMasker(atlas_file)\n",
    "    roi_data = masker.fit_transform(img_file)\n",
    "    n_obs = roi_data.shape[0]\n",
    "    \n",
    "    full_acq = False\n",
    "    if n_obs == 280:\n",
    "        full_acq = True\n",
    "    \n",
    "    all_rois = ~np.any(np.all(roi_data == 0, axis=0))\n",
    "    is_ok = (full_acq==True) & (all_rois==True)\n",
    "    \n",
    "    return is_ok\n",
    "\n",
    "def check_acquisition_rest(img_file):\n",
    "    \"\"\"\n",
    "    \n",
    "    function to check that we have a full acquisition (280 scans) and \n",
    "    that nifti masker \n",
    "    \n",
    "    \"\"\"\n",
    "    \n",
    "    masker = input_data.NiftiLabelsMasker(atlas_file)\n",
    "    roi_data = masker.fit_transform(img_file)\n",
    "    n_obs = roi_data.shape[0]\n",
    "    \n",
    "    full_acq = False\n",
    "    if n_obs == 150:\n",
    "        full_acq = True\n",
    "    \n",
    "    all_rois = ~np.any(np.all(roi_data == 0, axis=0))\n",
    "    is_ok = (full_acq==True) & (all_rois==True)\n",
    "    \n",
    "    return is_ok"
   ]
  },
  {
   "cell_type": "code",
   "execution_count": 5,
   "metadata": {},
   "outputs": [
    {
     "name": "stderr",
     "output_type": "stream",
     "text": [
      "100%|██████████| 333/333 [00:05<00:00, 60.42it/s]\n",
      "100%|██████████| 333/333 [03:48<00:00,  1.46it/s]\n"
     ]
    }
   ],
   "source": [
    "task_id = \"stroop\"\n",
    "pattern = \"sub-(.*)_ses-01_task-%s_space-MNI152NLin2009cAsym_desc-preproc_bold.nii.gz\" % task_id\n",
    "pattern_confounders = \"../task-%s\" % task_id + \"/confounders/sub-%s\" + \"_ses-01_task-%s_desc-confounds_regressors.tsv\" % task_id\n",
    "list_subjects_ids = []\n",
    "list_subjects_fwd = []\n",
    "\n",
    "for filename in tqdm(os.listdir(\"../task-%s/preproc\" % task_id)):\n",
    "    subj = re.findall(pattern=pattern, string=filename)[0]\n",
    "\n",
    "    list_subjects_ids.append(int(subj))\n",
    "    \n",
    "    fwd = pd.read_csv(pattern_confounders % subj, sep=\"\\t\").framewise_displacement.dropna().mean()\n",
    "    list_subjects_fwd.append(fwd)\n",
    "    \n",
    "stroop_df = pd.DataFrame({'SUB_ID': list_subjects_ids, 'FWD': list_subjects_fwd})\n",
    "stroop_df.head()\n",
    "\n",
    "parallel = Parallel(n_jobs=-1)\n",
    "is_ok = parallel(delayed(check_acquisition_task)(\"../task-%s/preproc\" % task_id + \"/\" + filename) \\\n",
    "                     for filename in tqdm(os.listdir(\"../task-%s/preproc\" % task_id)))\n",
    "is_ok = np.array(is_ok)\n",
    "\n",
    "stroop_df = stroop_df.loc[is_ok,:]"
   ]
  },
  {
   "cell_type": "code",
   "execution_count": 11,
   "metadata": {},
   "outputs": [
    {
     "data": {
      "text/plain": [
       "(332, 2)"
      ]
     },
     "execution_count": 11,
     "metadata": {},
     "output_type": "execute_result"
    }
   ],
   "source": [
    "stroop_df.shape"
   ]
  },
  {
   "cell_type": "code",
   "execution_count": 6,
   "metadata": {},
   "outputs": [
    {
     "name": "stderr",
     "output_type": "stream",
     "text": [
      "100%|██████████| 335/335 [00:05<00:00, 58.76it/s]\n",
      "100%|██████████| 335/335 [03:31<00:00,  1.58it/s]\n"
     ]
    }
   ],
   "source": [
    "task_id = \"msit\"\n",
    "pattern = \"sub-(.*)_ses-01_task-%s_space-MNI152NLin2009cAsym_desc-preproc_bold.nii.gz\" % task_id\n",
    "pattern_confounders = \"../task-%s\" % task_id + \"/confounders/sub-%s\" + \"_ses-01_task-%s_desc-confounds_regressors.tsv\" % task_id\n",
    "list_subjects_ids = []\n",
    "list_subjects_fwd = []\n",
    "\n",
    "for filename in tqdm(os.listdir(\"../task-%s/preproc\" % task_id)):\n",
    "    subj = re.findall(pattern=pattern, string=filename)[0]\n",
    "    \n",
    "    list_subjects_ids.append(int(subj))\n",
    "    \n",
    "    fwd = pd.read_csv(pattern_confounders % subj, sep=\"\\t\").framewise_displacement.dropna().mean()\n",
    "    list_subjects_fwd.append(fwd)\n",
    "\n",
    "msit_df = pd.DataFrame({'SUB_ID': list_subjects_ids, 'FWD': list_subjects_fwd})\n",
    "msit_df.head()\n",
    "\n",
    "parallel = Parallel(n_jobs=10)\n",
    "\n",
    "parallel = Parallel(n_jobs=-1)\n",
    "is_ok = parallel(delayed(check_acquisition_task)(\"../task-%s/preproc\" % task_id + \"/\" + filename) \\\n",
    "                     for filename in tqdm(os.listdir(\"../task-%s/preproc\" % task_id)))\n",
    "is_ok = np.array(is_ok)\n",
    "\n",
    "msit_df = msit_df.loc[is_ok,:]"
   ]
  },
  {
   "cell_type": "code",
   "execution_count": 9,
   "metadata": {},
   "outputs": [
    {
     "data": {
      "text/plain": [
       "(334, 2)"
      ]
     },
     "execution_count": 9,
     "metadata": {},
     "output_type": "execute_result"
    }
   ],
   "source": [
    "msit_df.shape"
   ]
  },
  {
   "cell_type": "code",
   "execution_count": 66,
   "metadata": {},
   "outputs": [
    {
     "data": {
      "text/html": [
       "<div>\n",
       "<style scoped>\n",
       "    .dataframe tbody tr th:only-of-type {\n",
       "        vertical-align: middle;\n",
       "    }\n",
       "\n",
       "    .dataframe tbody tr th {\n",
       "        vertical-align: top;\n",
       "    }\n",
       "\n",
       "    .dataframe thead th {\n",
       "        text-align: right;\n",
       "    }\n",
       "</style>\n",
       "<table border=\"1\" class=\"dataframe\">\n",
       "  <thead>\n",
       "    <tr style=\"text-align: right;\">\n",
       "      <th></th>\n",
       "      <th>SUB_ID</th>\n",
       "      <th>FWD</th>\n",
       "    </tr>\n",
       "  </thead>\n",
       "  <tbody>\n",
       "    <tr>\n",
       "      <th>0</th>\n",
       "      <td>5317</td>\n",
       "      <td>0.182166</td>\n",
       "    </tr>\n",
       "    <tr>\n",
       "      <th>1</th>\n",
       "      <td>3149</td>\n",
       "      <td>0.226422</td>\n",
       "    </tr>\n",
       "    <tr>\n",
       "      <th>2</th>\n",
       "      <td>2124</td>\n",
       "      <td>0.227824</td>\n",
       "    </tr>\n",
       "    <tr>\n",
       "      <th>3</th>\n",
       "      <td>325</td>\n",
       "      <td>0.158878</td>\n",
       "    </tr>\n",
       "    <tr>\n",
       "      <th>4</th>\n",
       "      <td>7607</td>\n",
       "      <td>0.213771</td>\n",
       "    </tr>\n",
       "  </tbody>\n",
       "</table>\n",
       "</div>"
      ],
      "text/plain": [
       "   SUB_ID       FWD\n",
       "0    5317  0.182166\n",
       "1    3149  0.226422\n",
       "2    2124  0.227824\n",
       "3     325  0.158878\n",
       "4    7607  0.213771"
      ]
     },
     "execution_count": 66,
     "metadata": {},
     "output_type": "execute_result"
    }
   ],
   "source": [
    "task_id = \"msit\"\n",
    "pattern = \"sub-(.*)_ses-01_task-%s_space-MNI152NLin2009cAsym_desc-preproc_bold.nii.gz\" % task_id\n",
    "pattern_confounders = \"../task-%s\" % task_id + \"/confounders/sub-%s\" + \"_ses-01_task-%s_desc-confounds_regressors.tsv\" % task_id\n",
    "list_subjects_ids = []\n",
    "list_subjects_fwd = []\n",
    "for filename in os.listdir(\"../task-%s/preproc\" % task_id):\n",
    "    subj = re.findall(pattern=pattern, string=filename)[0]\n",
    "    list_subjects_ids.append(int(subj))\n",
    "    \n",
    "    fwd = pd.read_csv(pattern_confounders % subj, sep=\"\\t\").framewise_displacement.dropna().mean()\n",
    "    list_subjects_fwd.append(fwd)\n",
    "    \n",
    "msit_df = pd.DataFrame({'SUB_ID': list_subjects_ids, 'FWD': list_subjects_fwd})\n",
    "msit_df.head()"
   ]
  },
  {
   "cell_type": "code",
   "execution_count": 8,
   "metadata": {},
   "outputs": [
    {
     "name": "stderr",
     "output_type": "stream",
     "text": [
      "100%|██████████| 334/334 [00:03<00:00, 104.53it/s]\n",
      "100%|██████████| 334/334 [01:52<00:00,  2.96it/s]\n"
     ]
    }
   ],
   "source": [
    "task_id = \"rest\"\n",
    "pattern = \"sub-(.*)_ses-01_task-%s_space-MNI152NLin2009cAsym_desc-preproc_bold.nii.gz\" % task_id\n",
    "pattern_confounders = \"../task-%s\" % task_id + \"/confounders/sub-%s\" + \"_ses-01_task-%s_desc-confounds_regressors.tsv\" % task_id\n",
    "list_subjects_ids = []\n",
    "list_subjects_fwd = []\n",
    "\n",
    "for filename in tqdm(os.listdir(\"../task-%s/preproc\" % task_id)):\n",
    "    subj = re.findall(pattern=pattern, string=filename)[0]\n",
    "    \n",
    "    list_subjects_ids.append(int(subj))\n",
    "    \n",
    "    fwd = pd.read_csv(pattern_confounders % subj, sep=\"\\t\").framewise_displacement.dropna().mean()\n",
    "    list_subjects_fwd.append(fwd)\n",
    "    \n",
    "resting_df = pd.DataFrame({'SUB_ID': list_subjects_ids, 'FWD': list_subjects_fwd})\n",
    "resting_df.head()\n",
    "\n",
    "parallel = Parallel(n_jobs=10)\n",
    "\n",
    "parallel = Parallel(n_jobs=-1)\n",
    "is_ok = parallel(delayed(check_acquisition_restt)(\"../task-%s/preproc\" % task_id + \"/\" + filename) \\\n",
    "                     for filename in tqdm(os.listdir(\"../task-%s/preproc\" % task_id)))\n",
    "is_ok = np.array(is_ok)\n",
    "\n",
    "resting_df = resting_df.loc[is_ok,:]"
   ]
  },
  {
   "cell_type": "code",
   "execution_count": 13,
   "metadata": {},
   "outputs": [
    {
     "data": {
      "text/plain": [
       "(333, 2)"
      ]
     },
     "execution_count": 13,
     "metadata": {},
     "output_type": "execute_result"
    }
   ],
   "source": [
    "resting_df.shape"
   ]
  },
  {
   "cell_type": "markdown",
   "metadata": {},
   "source": [
    "Find intersection amonng subjects and save it to disk for further use for several thresholds"
   ]
  },
  {
   "cell_type": "code",
   "execution_count": 14,
   "metadata": {},
   "outputs": [
    {
     "name": "stdout",
     "output_type": "stream",
     "text": [
      "229\n",
      "259\n",
      "267\n"
     ]
    }
   ],
   "source": [
    "for motion_thr in [0.3, 0.35, 0.4]:\n",
    "    stroop_low_motion_df = stroop_df[stroop_df.FWD < motion_thr]\n",
    "    msit_low_motion_df = msit_df[msit_df.FWD < motion_thr]\n",
    "    resting_low_motion_df = resting_df[resting_df.FWD < motion_thr]\n",
    "\n",
    "    subjects_intersect = list(set(reactivity_df.SUB_ID.to_list()) & \\\n",
    "                               set(stroop_low_motion_df.SUB_ID.to_list()) & \\\n",
    "                               set(msit_low_motion_df.SUB_ID.to_list()) & \\\n",
    "                               set(resting_low_motion_df.SUB_ID.to_list())\n",
    "                              )\n",
    "    \n",
    "    print(len(subjects_intersect))\n",
    "\n",
    "    np.savetxt(\"../data/subjects_intersect_motion_%s.txt\" % str(motion_thr*100).split(\".\")[0].zfill(3),  \n",
    "               subjects_intersect, fmt=\"%d\")"
   ]
  },
  {
   "cell_type": "code",
   "execution_count": 15,
   "metadata": {},
   "outputs": [
    {
     "name": "stdout",
     "output_type": "stream",
     "text": [
      "188\n",
      "195\n",
      "198\n"
     ]
    }
   ],
   "source": [
    "# The same but with a more stringet threshold on resting (0.2)\n",
    "for motion_thr in [0.3, 0.35, 0.4]:\n",
    "    stroop_low_motion_df = stroop_df[stroop_df.FWD < motion_thr]\n",
    "    msit_low_motion_df = msit_df[msit_df.FWD < motion_thr]\n",
    "    resting_low_motion_df = resting_df[resting_df.FWD < 0.2]\n",
    "\n",
    "    subjects_intersect = list(set(reactivity_df.SUB_ID.to_list()) & \\\n",
    "                               set(stroop_low_motion_df.SUB_ID.to_list()) & \\\n",
    "                               set(msit_low_motion_df.SUB_ID.to_list()) & \\\n",
    "                               set(resting_low_motion_df.SUB_ID.to_list())\n",
    "                              )\n",
    "    print(len(subjects_intersect))\n",
    "    np.savetxt(\"../data/subjects_intersect_motion_%s_rest_020.txt\" % str(motion_thr*100).split(\".\")[0].zfill(3),  \n",
    "               subjects_intersect, fmt=\"%d\")"
   ]
  },
  {
   "cell_type": "code",
   "execution_count": 14,
   "metadata": {},
   "outputs": [],
   "source": [
    "from cofluctuate_bold_glm.utils import create_task_confounders"
   ]
  },
  {
   "cell_type": "code",
   "execution_count": 15,
   "metadata": {},
   "outputs": [
    {
     "data": {
      "text/html": [
       "<div>\n",
       "<style scoped>\n",
       "    .dataframe tbody tr th:only-of-type {\n",
       "        vertical-align: middle;\n",
       "    }\n",
       "\n",
       "    .dataframe tbody tr th {\n",
       "        vertical-align: top;\n",
       "    }\n",
       "\n",
       "    .dataframe thead th {\n",
       "        text-align: right;\n",
       "    }\n",
       "</style>\n",
       "<table border=\"1\" class=\"dataframe\">\n",
       "  <thead>\n",
       "    <tr style=\"text-align: right;\">\n",
       "      <th></th>\n",
       "      <th>onset</th>\n",
       "      <th>duration</th>\n",
       "      <th>trial_type</th>\n",
       "    </tr>\n",
       "  </thead>\n",
       "  <tbody>\n",
       "    <tr>\n",
       "      <th>0</th>\n",
       "      <td>10</td>\n",
       "      <td>60</td>\n",
       "      <td>Incongruent</td>\n",
       "    </tr>\n",
       "    <tr>\n",
       "      <th>1</th>\n",
       "      <td>80</td>\n",
       "      <td>60</td>\n",
       "      <td>Congruent</td>\n",
       "    </tr>\n",
       "    <tr>\n",
       "      <th>2</th>\n",
       "      <td>150</td>\n",
       "      <td>60</td>\n",
       "      <td>Incongruent</td>\n",
       "    </tr>\n",
       "    <tr>\n",
       "      <th>3</th>\n",
       "      <td>220</td>\n",
       "      <td>60</td>\n",
       "      <td>Congruent</td>\n",
       "    </tr>\n",
       "    <tr>\n",
       "      <th>4</th>\n",
       "      <td>290</td>\n",
       "      <td>60</td>\n",
       "      <td>Incongruent</td>\n",
       "    </tr>\n",
       "    <tr>\n",
       "      <th>5</th>\n",
       "      <td>360</td>\n",
       "      <td>60</td>\n",
       "      <td>Congruent</td>\n",
       "    </tr>\n",
       "    <tr>\n",
       "      <th>6</th>\n",
       "      <td>430</td>\n",
       "      <td>60</td>\n",
       "      <td>Incongruent</td>\n",
       "    </tr>\n",
       "    <tr>\n",
       "      <th>7</th>\n",
       "      <td>500</td>\n",
       "      <td>60</td>\n",
       "      <td>Congruent</td>\n",
       "    </tr>\n",
       "  </tbody>\n",
       "</table>\n",
       "</div>"
      ],
      "text/plain": [
       "   onset  duration   trial_type\n",
       "0     10        60  Incongruent\n",
       "1     80        60    Congruent\n",
       "2    150        60  Incongruent\n",
       "3    220        60    Congruent\n",
       "4    290        60  Incongruent\n",
       "5    360        60    Congruent\n",
       "6    430        60  Incongruent\n",
       "7    500        60    Congruent"
      ]
     },
     "execution_count": 15,
     "metadata": {},
     "output_type": "execute_result"
    }
   ],
   "source": [
    "run_img = \"../task-stroop/preproc/sub-1002_ses-01_task-stroop_space-MNI152NLin2009cAsym_desc-preproc_bold.nii.gz\"\n",
    "events = \"../data/task-stroop_events.tsv\"\n",
    "events = pd.read_csv(\"../data/task-stroop_events.tsv\", sep=\"\\t\")\n",
    "events # create_task_confounders()"
   ]
  },
  {
   "cell_type": "code",
   "execution_count": 17,
   "metadata": {},
   "outputs": [],
   "source": [
    "conf_df = pd.read_csv(\"../task-stroop/confounders/sub-1002_ses-01_task-stroop_desc-confounds_regressors.tsv\", sep=\"\\t\")\n",
    "conf_df = conf_df.filter(regex=\"rot_[x-z]$|trans_[x-z]$\")\n"
   ]
  },
  {
   "cell_type": "code",
   "execution_count": 21,
   "metadata": {},
   "outputs": [
    {
     "data": {
      "text/plain": [
       "<function nilearn.signal.clean(signals, sessions=None, detrend=True, standardize='zscore', confounds=None, standardize_confounds=True, low_pass=None, high_pass=None, t_r=2.5, ensure_finite=False)>"
      ]
     },
     "execution_count": 21,
     "metadata": {},
     "output_type": "execute_result"
    }
   ],
   "source": [
    "clean"
   ]
  },
  {
   "cell_type": "code",
   "execution_count": 22,
   "metadata": {},
   "outputs": [],
   "source": [
    "from nilearn.input_data import NiftiLabelsMasker\n",
    "run_img = \"../task-stroop/preproc/sub-1002_ses-01_task-stroop_space-MNI152NLin2009cAsym_desc-preproc_bold.nii.gz\"\n",
    "conf_df = pd.read_csv(\"../task-stroop/confounders/sub-1002_ses-01_task-stroop_desc-confounds_regressors.tsv\", sep=\"\\t\")\n",
    "conf_df = conf_df.filter(regex=\"rot_[x-z]$|trans_[x-z]$\")\n",
    "run_img = image.load_img(run_img)\n",
    "n_scans = run_img.shape[3]\n",
    "\n",
    "start_time = 0\n",
    "end_time = (n_scans - 1)* 2.0\n",
    "frame_times = np.linspace(start_time, end_time, n_scans)\n",
    "task_conf = create_task_confounders(frame_times, events, fir_delays=[1,2,3,4,5])\n",
    "\n",
    "label_masker = NiftiLabelsMasker(labels_img=atlas_file, \n",
    "                                 detrend=True,\n",
    "                                 low_pass = None,\n",
    "                                 high_pass = 1/187.,\n",
    "                                 t_r = 2.0, \n",
    "                                 standardize=False)\n",
    "\n",
    "atlas_ts_conf = label_masker.fit_transform(run_img, confounds=conf_df)\n",
    "conf_clean = clean(conf_df.to_numpy(), detrend=True, high_pass= 1/187., t_r=2, standardize=False)\n",
    "\n",
    "[np.corrcoef(conf_clean[:,0], x)[0,1] for x in atlas_ts_conf.T]"
   ]
  },
  {
   "cell_type": "code",
   "execution_count": 28,
   "metadata": {},
   "outputs": [
    {
     "data": {
      "text/plain": [
       "3.731215228223418e-11"
      ]
     },
     "execution_count": 28,
     "metadata": {},
     "output_type": "execute_result"
    }
   ],
   "source": [
    "np.abs([[np.corrcoef(conf_clean[:,ii], x)[0,1] for x in atlas_ts_conf.T] for ii in range(conf_clean.shape[1])]).max()"
   ]
  },
  {
   "cell_type": "code",
   "execution_count": 23,
   "metadata": {},
   "outputs": [
    {
     "data": {
      "text/plain": [
       "array([[ 1.00000000e+00, -7.18158643e-17],\n",
       "       [-7.18158643e-17,  1.00000000e+00]])"
      ]
     },
     "execution_count": 23,
     "metadata": {},
     "output_type": "execute_result"
    }
   ],
   "source": [
    "np.corrcoef(clean(atlas_ts_conf, confounds=task_conf, standardize_confounds=False, t_r=2.0)[:,0], task_conf[:,4])"
   ]
  },
  {
   "cell_type": "code",
   "execution_count": 114,
   "metadata": {},
   "outputs": [
    {
     "data": {
      "text/html": [
       "<div>\n",
       "<style scoped>\n",
       "    .dataframe tbody tr th:only-of-type {\n",
       "        vertical-align: middle;\n",
       "    }\n",
       "\n",
       "    .dataframe tbody tr th {\n",
       "        vertical-align: top;\n",
       "    }\n",
       "\n",
       "    .dataframe thead th {\n",
       "        text-align: right;\n",
       "    }\n",
       "</style>\n",
       "<table border=\"1\" class=\"dataframe\">\n",
       "  <thead>\n",
       "    <tr style=\"text-align: right;\">\n",
       "      <th></th>\n",
       "      <th>trans_x</th>\n",
       "      <th>trans_y</th>\n",
       "      <th>trans_z</th>\n",
       "      <th>rot_x</th>\n",
       "      <th>rot_y</th>\n",
       "      <th>rot_z</th>\n",
       "    </tr>\n",
       "  </thead>\n",
       "  <tbody>\n",
       "    <tr>\n",
       "      <th>0</th>\n",
       "      <td>0.615510</td>\n",
       "      <td>-0.073622</td>\n",
       "      <td>-1.11149</td>\n",
       "      <td>-0.026077</td>\n",
       "      <td>-0.017888</td>\n",
       "      <td>-0.015497</td>\n",
       "    </tr>\n",
       "    <tr>\n",
       "      <th>1</th>\n",
       "      <td>0.600545</td>\n",
       "      <td>-0.073211</td>\n",
       "      <td>-1.08547</td>\n",
       "      <td>-0.025518</td>\n",
       "      <td>-0.017109</td>\n",
       "      <td>-0.015246</td>\n",
       "    </tr>\n",
       "    <tr>\n",
       "      <th>2</th>\n",
       "      <td>0.606549</td>\n",
       "      <td>-0.075858</td>\n",
       "      <td>-1.07293</td>\n",
       "      <td>-0.025000</td>\n",
       "      <td>-0.017374</td>\n",
       "      <td>-0.015406</td>\n",
       "    </tr>\n",
       "    <tr>\n",
       "      <th>3</th>\n",
       "      <td>0.606759</td>\n",
       "      <td>-0.078552</td>\n",
       "      <td>-1.08695</td>\n",
       "      <td>-0.025306</td>\n",
       "      <td>-0.017479</td>\n",
       "      <td>-0.015501</td>\n",
       "    </tr>\n",
       "    <tr>\n",
       "      <th>4</th>\n",
       "      <td>0.595637</td>\n",
       "      <td>-0.084132</td>\n",
       "      <td>-1.08210</td>\n",
       "      <td>-0.025268</td>\n",
       "      <td>-0.017427</td>\n",
       "      <td>-0.015400</td>\n",
       "    </tr>\n",
       "  </tbody>\n",
       "</table>\n",
       "</div>"
      ],
      "text/plain": [
       "    trans_x   trans_y  trans_z     rot_x     rot_y     rot_z\n",
       "0  0.615510 -0.073622 -1.11149 -0.026077 -0.017888 -0.015497\n",
       "1  0.600545 -0.073211 -1.08547 -0.025518 -0.017109 -0.015246\n",
       "2  0.606549 -0.075858 -1.07293 -0.025000 -0.017374 -0.015406\n",
       "3  0.606759 -0.078552 -1.08695 -0.025306 -0.017479 -0.015501\n",
       "4  0.595637 -0.084132 -1.08210 -0.025268 -0.017427 -0.015400"
      ]
     },
     "execution_count": 114,
     "metadata": {},
     "output_type": "execute_result"
    }
   ],
   "source": [
    "#conf_df = pd.read_csv(\"../task-stroop/confounders/sub-1002_ses-01_task-stroop_desc-confounds_regressors.tsv\", sep=\"\\t\")\n",
    "#conf_df = conf_df.filter(regex=\"rot_[x-z]$|trans_[x-z]$\")\n",
    "conf_df.head()"
   ]
  },
  {
   "cell_type": "code",
   "execution_count": 124,
   "metadata": {},
   "outputs": [
    {
     "data": {
      "text/plain": [
       "array([[ 1.        , -0.04658995],\n",
       "       [-0.04658995,  1.        ]])"
      ]
     },
     "execution_count": 124,
     "metadata": {},
     "output_type": "execute_result"
    }
   ],
   "source": [
    "from nilearn.signal import butterworth\n",
    "foo = butterworth(conf_df.to_numpy().copy(), sampling_rate=2.0, high_pass=1/187.)\n",
    "np.corrcoef(atlas_ts_conf[:,0], foo[:,0])"
   ]
  },
  {
   "cell_type": "code",
   "execution_count": 89,
   "metadata": {},
   "outputs": [
    {
     "data": {
      "text/plain": [
       "\u001b[0;31mSignature:\u001b[0m \u001b[0mlabel_masker\u001b[0m\u001b[0;34m.\u001b[0m\u001b[0mfit_transform\u001b[0m\u001b[0;34m(\u001b[0m\u001b[0mimgs\u001b[0m\u001b[0;34m,\u001b[0m \u001b[0mconfounds\u001b[0m\u001b[0;34m=\u001b[0m\u001b[0;32mNone\u001b[0m\u001b[0;34m)\u001b[0m\u001b[0;34m\u001b[0m\u001b[0;34m\u001b[0m\u001b[0m\n",
       "\u001b[0;31mDocstring:\u001b[0m\n",
       "Prepare and perform signal extraction from regions.\n",
       "\n",
       "        \n",
       "\u001b[0;31mSource:\u001b[0m   \n",
       "    \u001b[0;32mdef\u001b[0m \u001b[0mfit_transform\u001b[0m\u001b[0;34m(\u001b[0m\u001b[0mself\u001b[0m\u001b[0;34m,\u001b[0m \u001b[0mimgs\u001b[0m\u001b[0;34m,\u001b[0m \u001b[0mconfounds\u001b[0m\u001b[0;34m=\u001b[0m\u001b[0;32mNone\u001b[0m\u001b[0;34m)\u001b[0m\u001b[0;34m:\u001b[0m\u001b[0;34m\u001b[0m\n",
       "\u001b[0;34m\u001b[0m        \u001b[0;34m\"\"\" Prepare and perform signal extraction from regions.\u001b[0m\n",
       "\u001b[0;34m\u001b[0m\n",
       "\u001b[0;34m        \"\"\"\u001b[0m\u001b[0;34m\u001b[0m\n",
       "\u001b[0;34m\u001b[0m        \u001b[0;32mreturn\u001b[0m \u001b[0mself\u001b[0m\u001b[0;34m.\u001b[0m\u001b[0mfit\u001b[0m\u001b[0;34m(\u001b[0m\u001b[0;34m)\u001b[0m\u001b[0;34m.\u001b[0m\u001b[0mtransform\u001b[0m\u001b[0;34m(\u001b[0m\u001b[0mimgs\u001b[0m\u001b[0;34m,\u001b[0m \u001b[0mconfounds\u001b[0m\u001b[0;34m=\u001b[0m\u001b[0mconfounds\u001b[0m\u001b[0;34m)\u001b[0m\u001b[0;34m\u001b[0m\u001b[0;34m\u001b[0m\u001b[0m\n",
       "\u001b[0;31mFile:\u001b[0m      ~/anaconda3/lib/python3.8/site-packages/nilearn/input_data/nifti_labels_masker.py\n",
       "\u001b[0;31mType:\u001b[0m      method\n"
      ]
     },
     "metadata": {},
     "output_type": "display_data"
    }
   ],
   "source": [
    "label_masker.fit_transform??"
   ]
  },
  {
   "cell_type": "code",
   "execution_count": 245,
   "metadata": {},
   "outputs": [],
   "source": [
    "#[np.corrcoef(conf_df.iloc[:,0], x)[0,1] for x in atlas_ts_conf.T]\n"
   ]
  },
  {
   "cell_type": "code",
   "execution_count": 37,
   "metadata": {},
   "outputs": [
    {
     "data": {
      "text/plain": [
       "(280, 268)"
      ]
     },
     "execution_count": 37,
     "metadata": {},
     "output_type": "execute_result"
    }
   ],
   "source": [
    "atlas_ts_conf.shape"
   ]
  },
  {
   "cell_type": "code",
   "execution_count": 231,
   "metadata": {},
   "outputs": [
    {
     "data": {
      "image/png": "[encoded data removed]",
      "text/plain": [
       "<Figure size 432x288 with 3 Axes>"
      ]
     },
     "metadata": {
      "needs_background": "light"
     },
     "output_type": "display_data"
    }
   ],
   "source": [
    "import numpy as np\n",
    "from nilearn.signal import clean\n",
    "import matplotlib.pyplot as plt\n",
    "\n",
    "r=[]\n",
    "r_w_std=[]\n",
    "r_no_std=[]\n",
    "for i in range(1000):\n",
    "    X=np.random.rand(100,1)\n",
    "    c = X + np.random.rand(100,1)\n",
    "    X_w_std = clean(X, detrend=True, standardize=True, standardize_confounds=True, confounds=c)\n",
    "    # Use standardize_confounds=False to get previous behaviour...\n",
    "    X_no_std = clean(X, detrend=True, standardize=False, standardize_confounds=False, confounds=c)                                \n",
    "\n",
    "    r.append(np.corrcoef(X.T,c.T)[1,0])\n",
    "    r_w_std.append(np.corrcoef(X_w_std.T,c.T)[1,0])\n",
    "    r_no_std.append(np.corrcoef(X_no_std.T,c.T)[1,0])\n",
    "\n",
    "f, (ax1, ax2,ax3) = plt.subplots(3)\n",
    "ax1.hist(r)\n",
    "ax1.set_title('original correlation (signal x confound)')\n",
    "ax2.hist(r_w_std)\n",
    "ax2.set_title('correlation after confound regression (standardize=True)')\n",
    "ax3.hist(r_no_std)\n",
    "ax3.set_title('correlation after confound regression (standardize=False)')\n",
    "plt.tight_layout()\n",
    "plt.show()"
   ]
  },
  {
   "cell_type": "code",
   "execution_count": 244,
   "metadata": {},
   "outputs": [
    {
     "name": "stdout",
     "output_type": "stream",
     "text": [
      "-0.0007162469641231796\n"
     ]
    }
   ],
   "source": [
    "X_w_std = clean(X, detrend = True, standardize=False, high_pass=0.01, confounds=c)\n",
    "c_clean = clean(c, detrend = True, high_pass=0.01, standardize=False)\n",
    "#c_clean_2 = my_clean(c, detrend = True, high_pass=0.01, standardize=False)\n",
    "#c_clean\n",
    "print(np.corrcoef(X_w_std.T, c_clean.T)[0,1])\n",
    "#print(np.corrcoef(X_w_std.T, c_clean_2.T)[0,1])"
   ]
  },
  {
   "cell_type": "code",
   "execution_count": null,
   "metadata": {},
   "outputs": [],
   "source": []
  }
 ],
 "metadata": {
  "kernelspec": {
   "display_name": "Python 3",
   "language": "python",
   "name": "python3"
  },
  "language_info": {
   "codemirror_mode": {
    "name": "ipython",
    "version": 3
   },
   "file_extension": ".py",
   "mimetype": "text/x-python",
   "name": "python",
   "nbconvert_exporter": "python",
   "pygments_lexer": "ipython3",
   "version": "3.8.5"
  }
 },
 "nbformat": 4,
 "nbformat_minor": 4
}
