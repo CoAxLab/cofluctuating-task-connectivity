{
 "cells": [
  {
   "cell_type": "markdown",
   "metadata": {},
   "source": [
    "import pandas as pd\n",
    "import numpy as np\n",
    "# ^^^ pyforest auto-imports - don't write above this line\n",
    "Notebook to create the final list of subjects. Criteria:\n",
    "- Have reactivity information.\n",
    "- both stroop, msit and rest have full atlas coverage.\n",
    "- be low motion for both tasks.\n",
    "- something else? resting as well?"
   ]
  },
  {
   "cell_type": "code",
   "execution_count": 1,
   "metadata": {},
   "outputs": [],
   "source": [
    "import numpy as np\n",
    "import pandas as pd\n",
    "import regex as re\n",
    "import os \n",
    "from tqdm import tqdm\n",
    "from nilearn import image, input_data\n",
    "from joblib import Parallel, delayed"
   ]
  },
  {
   "cell_type": "code",
   "execution_count": 2,
   "metadata": {},
   "outputs": [
    {
     "data": {
      "text/plain": [
       "sbp_reactivity_both      False\n",
       "sbp_reactivity_stroop    False\n",
       "sbp_reactivity_msit      False\n",
       "dbp_reactivity_both      False\n",
       "dbp_reactivity_stroop    False\n",
       "dbp_reactivity_msit      False\n",
       "map_reactivity_both      False\n",
       "map_reactivity_stroop    False\n",
       "map_reactivity_msit      False\n",
       "hr_reactivity_both       False\n",
       "hr_reactivity_stroop     False\n",
       "hr_reactivity_msit       False\n",
       "dtype: bool"
      ]
     },
     "execution_count": 2,
     "metadata": {},
     "output_type": "execute_result"
    }
   ],
   "source": [
    "# No nans in this dataset for reactivity\n",
    "pd.read_csv(\"../data/demo/pip_reactivity_2020.csv\").filter(regex=\"reactivity\").isna().any()"
   ]
  },
  {
   "cell_type": "code",
   "execution_count": 3,
   "metadata": {},
   "outputs": [
    {
     "data": {
      "text/html": [
       "<div>\n",
       "<style scoped>\n",
       "    .dataframe tbody tr th:only-of-type {\n",
       "        vertical-align: middle;\n",
       "    }\n",
       "\n",
       "    .dataframe tbody tr th {\n",
       "        vertical-align: top;\n",
       "    }\n",
       "\n",
       "    .dataframe thead th {\n",
       "        text-align: right;\n",
       "    }\n",
       "</style>\n",
       "<table border=\"1\" class=\"dataframe\">\n",
       "  <thead>\n",
       "    <tr style=\"text-align: right;\">\n",
       "      <th></th>\n",
       "      <th>SUB_ID</th>\n",
       "    </tr>\n",
       "  </thead>\n",
       "  <tbody>\n",
       "    <tr>\n",
       "      <th>0</th>\n",
       "      <td>1002</td>\n",
       "    </tr>\n",
       "    <tr>\n",
       "      <th>1</th>\n",
       "      <td>1003</td>\n",
       "    </tr>\n",
       "    <tr>\n",
       "      <th>2</th>\n",
       "      <td>1004</td>\n",
       "    </tr>\n",
       "    <tr>\n",
       "      <th>3</th>\n",
       "      <td>1005</td>\n",
       "    </tr>\n",
       "    <tr>\n",
       "      <th>4</th>\n",
       "      <td>1006</td>\n",
       "    </tr>\n",
       "  </tbody>\n",
       "</table>\n",
       "</div>"
      ],
      "text/plain": [
       "   SUB_ID\n",
       "0    1002\n",
       "1    1003\n",
       "2    1004\n",
       "3    1005\n",
       "4    1006"
      ]
     },
     "execution_count": 3,
     "metadata": {},
     "output_type": "execute_result"
    }
   ],
   "source": [
    "# subjects with reactivity\n",
    "subjects_reactivity = pd.read_csv(\"../data/demo/pip_reactivity_2020.csv\").id.to_list()\n",
    "\n",
    "reactivity_df = pd.DataFrame({'SUB_ID': subjects_reactivity})\n",
    "reactivity_df.head()"
   ]
  },
  {
   "cell_type": "code",
   "execution_count": 23,
   "metadata": {},
   "outputs": [
    {
     "data": {
      "application/javascript": [
       "\n",
       "        if (window._pyforest_update_imports_cell) { window._pyforest_update_imports_cell('import pandas as pd\\nimport numpy as np'); }\n",
       "    "
      ],
      "text/plain": [
       "<IPython.core.display.Javascript object>"
      ]
     },
     "metadata": {},
     "output_type": "display_data"
    },
    {
     "data": {
      "application/javascript": [
       "\n",
       "        if (window._pyforest_update_imports_cell) { window._pyforest_update_imports_cell('import pandas as pd\\nimport numpy as np'); }\n",
       "    "
      ],
      "text/plain": [
       "<IPython.core.display.Javascript object>"
      ]
     },
     "metadata": {},
     "output_type": "display_data"
    },
    {
     "data": {
      "application/javascript": [
       "\n",
       "        if (window._pyforest_update_imports_cell) { window._pyforest_update_imports_cell('import pandas as pd\\nimport numpy as np'); }\n",
       "    "
      ],
      "text/plain": [
       "<IPython.core.display.Javascript object>"
      ]
     },
     "metadata": {},
     "output_type": "display_data"
    },
    {
     "data": {
      "application/javascript": [
       "\n",
       "        if (window._pyforest_update_imports_cell) { window._pyforest_update_imports_cell('import pandas as pd\\nimport numpy as np'); }\n",
       "    "
      ],
      "text/plain": [
       "<IPython.core.display.Javascript object>"
      ]
     },
     "metadata": {},
     "output_type": "display_data"
    },
    {
     "data": {
      "text/plain": [
       "6.226693797482864"
      ]
     },
     "execution_count": 23,
     "metadata": {},
     "output_type": "execute_result"
    }
   ],
   "source": [
    "pd.merge(pd.DataFrame({'ePrime.id':np.loadtxt(\"../data/subjects_intersect_motion_035.txt\")}),\n",
    "         pd.read_spss(\"../data/demo/PIP_n330_03_26_2019.sav\"), on = 'ePrime.id').age.std()"
   ]
  },
  {
   "cell_type": "code",
   "execution_count": 19,
   "metadata": {},
   "outputs": [
    {
     "data": {
      "application/javascript": [
       "\n",
       "        if (window._pyforest_update_imports_cell) { window._pyforest_update_imports_cell('import pandas as pd\\nimport numpy as np'); }\n",
       "    "
      ],
      "text/plain": [
       "<IPython.core.display.Javascript object>"
      ]
     },
     "metadata": {},
     "output_type": "display_data"
    },
    {
     "data": {
      "application/javascript": [
       "\n",
       "        if (window._pyforest_update_imports_cell) { window._pyforest_update_imports_cell('import pandas as pd\\nimport numpy as np'); }\n",
       "    "
      ],
      "text/plain": [
       "<IPython.core.display.Javascript object>"
      ]
     },
     "metadata": {},
     "output_type": "display_data"
    },
    {
     "data": {
      "application/javascript": [
       "\n",
       "        if (window._pyforest_update_imports_cell) { window._pyforest_update_imports_cell('import pandas as pd\\nimport numpy as np'); }\n",
       "    "
      ],
      "text/plain": [
       "<IPython.core.display.Javascript object>"
      ]
     },
     "metadata": {},
     "output_type": "display_data"
    },
    {
     "data": {
      "application/javascript": [
       "\n",
       "        if (window._pyforest_update_imports_cell) { window._pyforest_update_imports_cell('import pandas as pd\\nimport numpy as np'); }\n",
       "    "
      ],
      "text/plain": [
       "<IPython.core.display.Javascript object>"
      ]
     },
     "metadata": {},
     "output_type": "display_data"
    },
    {
     "data": {
      "text/plain": [
       "MALE      123\n",
       "FEMALE    119\n",
       "Name: gender, dtype: int64"
      ]
     },
     "execution_count": 19,
     "metadata": {},
     "output_type": "execute_result"
    }
   ],
   "source": [
    "pd.merge(pd.DataFrame({'ePrime.id':np.loadtxt(\"../data/subjects_intersect_motion_035.txt\")}),\n",
    "         pd.read_spss(\"../data/demo/PIP_n330_03_26_2019.sav\"), on = 'ePrime.id').gender.value_counts()"
   ]
  },
  {
   "cell_type": "code",
   "execution_count": 13,
   "metadata": {},
   "outputs": [],
   "source": [
    "atlas_file = \"../data/atlases/shen_2mm_268_parcellation.nii.gz\"\n",
    "\n",
    "def check_acquisition_task(img_file):\n",
    "    \"\"\"\n",
    "    \n",
    "    function to check that we have a full acquisition (280 scans) and \n",
    "    that atlas fit subject (all ROI have signal)\n",
    "    \n",
    "    \"\"\"\n",
    "    \n",
    "    masker = input_data.NiftiLabelsMasker(atlas_file)\n",
    "    roi_data = masker.fit_transform(img_file)\n",
    "    n_obs = roi_data.shape[0]\n",
    "    \n",
    "    full_acq = False\n",
    "    if n_obs == 280:\n",
    "        full_acq = True\n",
    "    \n",
    "    roi_data_std = np.std(roi_data, axis=0)\n",
    "    all_rois = ~np.any(roi_data_std == 0)\n",
    "    is_ok = (full_acq==True) & (all_rois==True)\n",
    "    \n",
    "    return is_ok\n",
    "\n",
    "def check_acquisition_rest(img_file):\n",
    "    \"\"\"\n",
    "    \n",
    "    function to check that we have a full acquisition (280 scans) and \n",
    "    that nifti masker \n",
    "    \n",
    "    \"\"\"\n",
    "    \n",
    "    masker = input_data.NiftiLabelsMasker(atlas_file)\n",
    "    roi_data = masker.fit_transform(img_file)\n",
    "    n_obs = roi_data.shape[0]\n",
    "    \n",
    "    full_acq = False\n",
    "    if n_obs == 150:\n",
    "        full_acq = True\n",
    "    \n",
    "    roi_data_std = np.std(roi_data, axis=0)\n",
    "    all_rois = ~np.any(roi_data_std == 0)\n",
    "    \n",
    "    is_ok = (full_acq==True) & (all_rois==True)\n",
    "    \n",
    "    return is_ok"
   ]
  },
  {
   "cell_type": "code",
   "execution_count": 5,
   "metadata": {},
   "outputs": [
    {
     "name": "stderr",
     "output_type": "stream",
     "text": [
      "100%|██████████| 333/333 [00:04<00:00, 67.54it/s]\n",
      "100%|██████████| 333/333 [03:52<00:00,  1.43it/s]\n"
     ]
    }
   ],
   "source": [
    "task_id = \"stroop\"\n",
    "pattern = \"sub-(.*)_ses-01_task-%s_space-MNI152NLin2009cAsym_desc-preproc_bold.nii.gz\" % task_id\n",
    "pattern_confounders = \"../data/confounders/task-%s\" % task_id + \"/sub-%s\" + \"_ses-01_task-%s_desc-confounds_regressors.tsv\" % task_id\n",
    "list_subjects_ids = []\n",
    "list_subjects_fwd = []\n",
    "\n",
    "for filename in tqdm(os.listdir(\"../data/preproc_bold/task-%s\" % task_id)):\n",
    "    subj = re.findall(pattern=pattern, string=filename)[0]\n",
    "\n",
    "    list_subjects_ids.append(int(subj))\n",
    "    \n",
    "    fwd = pd.read_csv(pattern_confounders % subj, sep=\"\\t\").framewise_displacement.dropna().mean()\n",
    "    list_subjects_fwd.append(fwd)\n",
    "    \n",
    "stroop_df = pd.DataFrame({'SUB_ID': list_subjects_ids, 'FWD': list_subjects_fwd})\n",
    "stroop_df.head()\n",
    "\n",
    "parallel = Parallel(n_jobs=-1)\n",
    "is_ok = parallel(delayed(check_acquisition_task)(\"../data/preproc_bold/task-%s\" % task_id + \"/\" + filename) \\\n",
    "                     for filename in tqdm(os.listdir(\"../data/preproc_bold/task-%s\" % task_id)))\n",
    "is_ok = np.array(is_ok)\n",
    "\n",
    "stroop_df = stroop_df.loc[is_ok,:]"
   ]
  },
  {
   "cell_type": "code",
   "execution_count": 6,
   "metadata": {},
   "outputs": [
    {
     "data": {
      "text/plain": [
       "(322, 2)"
      ]
     },
     "execution_count": 6,
     "metadata": {},
     "output_type": "execute_result"
    }
   ],
   "source": [
    "stroop_df.shape"
   ]
  },
  {
   "cell_type": "code",
   "execution_count": 7,
   "metadata": {},
   "outputs": [
    {
     "name": "stderr",
     "output_type": "stream",
     "text": [
      "100%|██████████| 335/335 [00:05<00:00, 60.37it/s]\n",
      "100%|██████████| 335/335 [03:25<00:00,  1.63it/s]\n"
     ]
    }
   ],
   "source": [
    "task_id = \"msit\"\n",
    "pattern = \"sub-(.*)_ses-01_task-%s_space-MNI152NLin2009cAsym_desc-preproc_bold.nii.gz\" % task_id\n",
    "pattern_confounders = \"../data/confounders/task-%s\" % task_id + \"/sub-%s\" + \"_ses-01_task-%s_desc-confounds_regressors.tsv\" % task_id\n",
    "list_subjects_ids = []\n",
    "list_subjects_fwd = []\n",
    "\n",
    "for filename in tqdm(os.listdir(\"../data/preproc_bold/task-%s\" % task_id)):\n",
    "    subj = re.findall(pattern=pattern, string=filename)[0]\n",
    "\n",
    "    list_subjects_ids.append(int(subj))\n",
    "    \n",
    "    fwd = pd.read_csv(pattern_confounders % subj, sep=\"\\t\").framewise_displacement.dropna().mean()\n",
    "    list_subjects_fwd.append(fwd)\n",
    "    \n",
    "msit_df = pd.DataFrame({'SUB_ID': list_subjects_ids, 'FWD': list_subjects_fwd})\n",
    "msit_df.head()\n",
    "\n",
    "parallel = Parallel(n_jobs=-1)\n",
    "is_ok = parallel(delayed(check_acquisition_task)(\"../data/preproc_bold/task-%s\" % task_id + \"/\" + filename) \\\n",
    "                     for filename in tqdm(os.listdir(\"../data/preproc_bold/task-%s\" % task_id)))\n",
    "is_ok = np.array(is_ok)\n",
    "\n",
    "msit_df = msit_df.loc[is_ok,:]"
   ]
  },
  {
   "cell_type": "code",
   "execution_count": 8,
   "metadata": {},
   "outputs": [
    {
     "data": {
      "text/plain": [
       "(317, 2)"
      ]
     },
     "execution_count": 8,
     "metadata": {},
     "output_type": "execute_result"
    }
   ],
   "source": [
    "msit_df.shape"
   ]
  },
  {
   "cell_type": "code",
   "execution_count": 15,
   "metadata": {},
   "outputs": [
    {
     "name": "stderr",
     "output_type": "stream",
     "text": [
      "100%|██████████| 334/334 [00:03<00:00, 101.11it/s]\n",
      "100%|██████████| 334/334 [01:56<00:00,  2.86it/s]\n"
     ]
    }
   ],
   "source": [
    "task_id = \"rest\"\n",
    "pattern = \"sub-(.*)_ses-01_task-%s_space-MNI152NLin2009cAsym_desc-preproc_bold.nii.gz\" % task_id\n",
    "pattern_confounders = \"../data/confounders/task-%s\" % task_id + \"/sub-%s\" + \"_ses-01_task-%s_desc-confounds_regressors.tsv\" % task_id\n",
    "list_subjects_ids = []\n",
    "list_subjects_fwd = []\n",
    "\n",
    "for filename in tqdm(os.listdir(\"../data/preproc_bold/task-%s\" % task_id)):\n",
    "    subj = re.findall(pattern=pattern, string=filename)[0]\n",
    "\n",
    "    list_subjects_ids.append(int(subj))\n",
    "    \n",
    "    fwd = pd.read_csv(pattern_confounders % subj, sep=\"\\t\").framewise_displacement.dropna().mean()\n",
    "    list_subjects_fwd.append(fwd)\n",
    "    \n",
    "resting_df = pd.DataFrame({'SUB_ID': list_subjects_ids, 'FWD': list_subjects_fwd})\n",
    "resting_df.head()\n",
    "\n",
    "parallel = Parallel(n_jobs=-1)\n",
    "is_ok = parallel(delayed(check_acquisition_rest)(\"../data/preproc_bold/task-%s\" % task_id + \"/\" + filename) \\\n",
    "                     for filename in tqdm(os.listdir(\"../data/preproc_bold/task-%s\" % task_id)))\n",
    "is_ok = np.array(is_ok)\n",
    "\n",
    "resting_df = resting_df.loc[is_ok,:]"
   ]
  },
  {
   "cell_type": "code",
   "execution_count": 16,
   "metadata": {},
   "outputs": [
    {
     "data": {
      "text/plain": [
       "(309, 2)"
      ]
     },
     "execution_count": 16,
     "metadata": {},
     "output_type": "execute_result"
    }
   ],
   "source": [
    "resting_df.shape"
   ]
  },
  {
   "cell_type": "markdown",
   "metadata": {},
   "source": [
    "Find intersection amonng subjects and save it to disk for further use for several thresholds"
   ]
  },
  {
   "cell_type": "code",
   "execution_count": 18,
   "metadata": {},
   "outputs": [
    {
     "name": "stdout",
     "output_type": "stream",
     "text": [
      "213\n",
      "242\n",
      "249\n"
     ]
    }
   ],
   "source": [
    "for motion_thr in [0.3, 0.35, 0.4]:\n",
    "    stroop_low_motion_df = stroop_df[stroop_df.FWD < motion_thr]\n",
    "    msit_low_motion_df = msit_df[msit_df.FWD < motion_thr]\n",
    "    resting_low_motion_df = resting_df[resting_df.FWD < motion_thr]\n",
    "\n",
    "    subjects_intersect = list(set(reactivity_df.SUB_ID.to_list()) & \\\n",
    "                               set(stroop_low_motion_df.SUB_ID.to_list()) & \\\n",
    "                               set(msit_low_motion_df.SUB_ID.to_list()) & \\\n",
    "                               set(resting_low_motion_df.SUB_ID.to_list())\n",
    "                              )\n",
    "    \n",
    "    print(len(subjects_intersect))\n",
    "\n",
    "    np.savetxt(\"../data/subjects_intersect_motion_%s.txt\" % str(motion_thr*100).split(\".\")[0].zfill(3),  \n",
    "               subjects_intersect, fmt=\"%d\")"
   ]
  },
  {
   "cell_type": "code",
   "execution_count": 19,
   "metadata": {},
   "outputs": [
    {
     "name": "stdout",
     "output_type": "stream",
     "text": [
      "177\n",
      "184\n",
      "187\n"
     ]
    }
   ],
   "source": [
    "# The same but with a more stringet threshold on resting (0.2)\n",
    "for motion_thr in [0.3, 0.35, 0.4]:\n",
    "    stroop_low_motion_df = stroop_df[stroop_df.FWD < motion_thr]\n",
    "    msit_low_motion_df = msit_df[msit_df.FWD < motion_thr]\n",
    "    resting_low_motion_df = resting_df[resting_df.FWD < 0.2]\n",
    "\n",
    "    subjects_intersect = list(set(reactivity_df.SUB_ID.to_list()) & \\\n",
    "                               set(stroop_low_motion_df.SUB_ID.to_list()) & \\\n",
    "                               set(msit_low_motion_df.SUB_ID.to_list()) & \\\n",
    "                               set(resting_low_motion_df.SUB_ID.to_list())\n",
    "                              )\n",
    "    print(len(subjects_intersect))\n",
    "    np.savetxt(\"../data/subjects_intersect_motion_%s_rest_020.txt\" % str(motion_thr*100).split(\".\")[0].zfill(3),  \n",
    "               subjects_intersect, fmt=\"%d\")"
   ]
  }
 ],
 "metadata": {
  "kernelspec": {
   "display_name": "Python 3",
   "language": "python",
   "name": "python3"
  },
  "language_info": {
   "codemirror_mode": {
    "name": "ipython",
    "version": 3
   },
   "file_extension": ".py",
   "mimetype": "text/x-python",
   "name": "python",
   "nbconvert_exporter": "python",
   "pygments_lexer": "ipython3",
   "version": "3.8.5"
  }
 },
 "nbformat": 4,
 "nbformat_minor": 4
}
